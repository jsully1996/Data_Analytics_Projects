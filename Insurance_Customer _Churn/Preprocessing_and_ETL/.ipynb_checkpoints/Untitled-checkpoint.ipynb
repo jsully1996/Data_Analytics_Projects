{
 "cells": [
  {
   "cell_type": "code",
   "execution_count": 4,
   "metadata": {},
   "outputs": [],
   "source": [
    "import pandas as pd\n",
    "from pyspark.sql import SparkSession, functions, types\n",
    "#Create Spark Session and context\n",
    "spark = SparkSession.builder.appName('example code').getOrCreate()\n",
    "spark.sparkContext.setLogLevel('WARN')\n",
    "sc = spark.sparkContext\n",
    "#Recover stored Pandas Dataframe Objects\n",
    "%store -r df1\n",
    "%store -r fake_df"
   ]
  },
  {
   "cell_type": "markdown",
   "metadata": {},
   "source": [
    "### Convert Pandas Dataframes to Spark Dataframes"
   ]
  },
  {
   "cell_type": "code",
   "execution_count": 33,
   "metadata": {},
   "outputs": [
    {
     "name": "stdout",
     "output_type": "stream",
     "text": [
      "First Dataframe:\n",
      "+-----------+---------+-----------------------+---+--------+--------+---------+-----------------+-----------------+\n",
      "|Customer ID|     City|Customer Lifetime Value|Age|Response|Coverage|Education|Effective To Date|Employment_Status|\n",
      "+-----------+---------+-----------------------+---+--------+--------+---------+-----------------+-----------------+\n",
      "|    DA29911|   Bhopal|     1339.3965560000001| 32|      No|Extended|Grade XII|       07-12-2020|       Unemployed|\n",
      "|    PL40163|  Kolkata|            6388.288678| 34|      No|   Basic|  Diploma|       05-03-2019|       Unemployed|\n",
      "|    CS14065|  Chennai|            6077.675806| 49|     Yes| Premium|  Diploma|       06-05-2020|          Retired|\n",
      "|    KJ49509|  Kolkata|     3615.7581549999995| 40|     Yes| Premium|  Grade X|       01-06-2018|       Unemployed|\n",
      "|    CF57721|   Bhopal|            5015.968678| 47|     Yes| Premium| Graduate|       30-10-2020|         On leave|\n",
      "|    BU35480|     Pune|            2928.508467| 46|      No| Premium|  Diploma|       31-07-2018|       Unemployed|\n",
      "|    UK89345|     Pune|            5237.849466| 48|     Yes| Premium| Graduate|       28-03-2019|         Employed|\n",
      "|    ZR36845|  Kolkata|            3269.851544| 47|      No| Premium| Graduate|       30-07-2018|          Retired|\n",
      "|    NC26827|    Delhi|             1318.01513| 26|     Yes|Extended|   Master|       08-09-2018|         Employed|\n",
      "|    WY87597|Bengaluru|            9564.454456| 31|      No|   Basic|   Master|       24-07-2020|         On leave|\n",
      "+-----------+---------+-----------------------+---+--------+--------+---------+-----------------+-----------------+\n",
      "only showing top 10 rows\n",
      "\n",
      "\n",
      "Second Dataframe:\n",
      "+-----------+--------------------+--------------------+--------------------+--------------------+\n",
      "|Customer ID|                Name|             Address|            Phone_no|                 Job|\n",
      "+-----------+--------------------+--------------------+--------------------+--------------------+\n",
      "|    JM74474|      Taylor Johnson|475 White Station...|  577.347.1095x72786|Lighting technici...|\n",
      "|    SB87239|      Isaiah Hammond|735 Joseph Lakes ...|    038.150.9094x021|Environmental hea...|\n",
      "|    OK68537|Michael Clements DVM|309 Leah Highway\n",
      "...|        792.000.7028|     Mining engineer|\n",
      "|    BR75237|     Regina Williams|97626 Mccall Terr...|    182.117.8878x877|       Media planner|\n",
      "|    QV59649|     Kathryn Maxwell|436 Martha Juncti...|     +1-834-389-3554|Engineer, communi...|\n",
      "|    NA70806|       Ronald Graham|40475 Nicole Shoa...|001-893-744-6464x...| Visual merchandiser|\n",
      "|    JV85293|      Audrey Shields|USCGC Williams\n",
      "FP...| (053)109-2244x97988|          IT trainer|\n",
      "|    UV74428|        Paul Ramirez|6008 Renee Cove\n",
      "E...|001-049-019-8601x...|Private music tea...|\n",
      "|    UN52068|  Michael Livingston|491 Jones Burg Ap...|  929-881-6565x77086|Engineer, technic...|\n",
      "|    RN95272|     Anthony Walters|37506 Joseph Clif...| (312)159-0511x79727|Scientist, audiol...|\n",
      "+-----------+--------------------+--------------------+--------------------+--------------------+\n",
      "only showing top 10 rows\n",
      "\n"
     ]
    }
   ],
   "source": [
    "spark_df1 = spark.createDataFrame(df1)\n",
    "spark_df2 = spark.createDataFrame(fake_df)\n",
    "print('First Dataframe:')\n",
    "spark_df1.select(spark_df1.columns[:9]).show(10)\n",
    "print('\\nSecond Dataframe:')\n",
    "spark_df2.select(spark_df2.columns[:5]).show(10,truncate=True)"
   ]
  },
  {
   "cell_type": "code",
   "execution_count": null,
   "metadata": {},
   "outputs": [],
   "source": []
  }
 ],
 "metadata": {
  "kernelspec": {
   "display_name": "Python 3",
   "language": "python",
   "name": "python3"
  },
  "language_info": {
   "codemirror_mode": {
    "name": "ipython",
    "version": 3
   },
   "file_extension": ".py",
   "mimetype": "text/x-python",
   "name": "python",
   "nbconvert_exporter": "python",
   "pygments_lexer": "ipython3",
   "version": "3.7.1"
  }
 },
 "nbformat": 4,
 "nbformat_minor": 2
}
