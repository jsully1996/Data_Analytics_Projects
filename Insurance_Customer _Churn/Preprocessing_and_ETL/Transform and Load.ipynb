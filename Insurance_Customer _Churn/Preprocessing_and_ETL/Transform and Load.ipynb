{
 "cells": [
  {
   "cell_type": "code",
   "execution_count": 1,
   "metadata": {},
   "outputs": [],
   "source": [
    "from pyspark.sql import SparkSession\n",
    "from pyspark.sql import SparkSession, functions, types\n",
    "spark = SparkSession\\\n",
    "    .builder\\\n",
    "    .appName(\"Transform&Load\")\\\n",
    "    .config(\"spark.driver.extraClassPath\",\"/home/jim/spark-2.4.0-bin-hadoop2.7/jars/mysql-connector-java-5.1.49.jar\")\\\n",
    "    .getOrCreate()\n",
    "spark.sparkContext.setLogLevel('WARN')\n",
    "sc = spark.sparkContext"
   ]
  },
  {
   "cell_type": "markdown",
   "metadata": {},
   "source": [
    "### Read the data saved as a mySQL database table into a spark Dataframe"
   ]
  },
  {
   "cell_type": "code",
   "execution_count": 2,
   "metadata": {},
   "outputs": [],
   "source": [
    "df = spark.read\\\n",
    "    .format(\"jdbc\")\\\n",
    "    .option(\"url\", \"jdbc:mysql://localhost/Insurance\")\\\n",
    "    .option(\"driver\", \"com.mysql.jdbc.Driver\")\\\n",
    "    .option(\"dbtable\", \"Insurance_data\").option(\"user\", \"jsully\")\\\n",
    "    .option(\"password\", \"whatisreal1\").load()"
   ]
  },
  {
   "cell_type": "code",
   "execution_count": 3,
   "metadata": {},
   "outputs": [
    {
     "name": "stdout",
     "output_type": "stream",
     "text": [
      "+-----------+-------+-----------------------+---+--------+--------+-----------------+-----------------+\n",
      "|Customer_ID|   City|Customer Lifetime Value|Age|Response|Coverage|Effective To Date|Employment_Status|\n",
      "+-----------+-------+-----------------------+---+--------+--------+-----------------+-----------------+\n",
      "|    AA23674|Chennai|                9996.58| 44|     Yes| Premium|       18-04-2019|         Employed|\n",
      "|    AA37549| Indore|                4009.22| 45|     Yes|Extended|       12-04-2019|         On leave|\n",
      "|    AA39942|   Pune|                5805.17| 27|      No| Premium|       18-08-2020|          Retired|\n",
      "|    AA55170| Mumbai|                 5874.0| 35|      No| Premium|       21-08-2020|         On leave|\n",
      "|    AA63877| Mumbai|                7854.84| 38|     Yes| Premium|       11-11-2018|         Employed|\n",
      "+-----------+-------+-----------------------+---+--------+--------+-----------------+-----------------+\n",
      "only showing top 5 rows\n",
      "\n"
     ]
    }
   ],
   "source": [
    "df.select(df.columns[:8]).show(5)"
   ]
  },
  {
   "cell_type": "markdown",
   "metadata": {},
   "source": [
    "## Transform the Data\n",
    "### Now we shall transform the data. The first step is to convert all categorical data to numerical, so that the ML model can process it more easily\n",
    "### The SPark String Indexer can be utilized here. \n",
    "(https://spark.apache.org/docs/latest/ml-features.html#stringindexer)"
   ]
  },
  {
   "cell_type": "code",
   "execution_count": 7,
   "metadata": {},
   "outputs": [
    {
     "name": "stdout",
     "output_type": "stream",
     "text": [
      "+---------+---------+\n",
      "|     City|CityIndex|\n",
      "+---------+---------+\n",
      "|Hyderabad|      6.0|\n",
      "|  Kolkata|      4.0|\n",
      "|   Indore|      5.0|\n",
      "|     Pune|      1.0|\n",
      "|Bengaluru|      8.0|\n",
      "|   Bhopal|      3.0|\n",
      "|   Mumbai|      7.0|\n",
      "|  Chennai|      0.0|\n",
      "|    Delhi|      2.0|\n",
      "+---------+---------+\n",
      "\n"
     ]
    }
   ],
   "source": [
    "from pyspark.ml.feature import StringIndexer\n",
    "indexer = StringIndexer(inputCol=\"City\", outputCol=\"CityIndex\")\n",
    "df = indexer.fit(df).transform(df)\n",
    "df.select('City','CityIndex').distinct().show()"
   ]
  },
  {
   "cell_type": "markdown",
   "metadata": {},
   "source": [
    "### Do this for all categorical columns"
   ]
  },
  {
   "cell_type": "code",
   "execution_count": 8,
   "metadata": {},
   "outputs": [],
   "source": [
    "indexer_list = []\n",
    "categ_cols = ['Response','Coverage','Education','Employment_Status','Gender','Location_Code','Marital Status','Policy_Type','Policy_Rating','Renew_Offer_Type','Sales_Channel','Total Claim Amount','Feedback','Job','Company','Credit Card Provider']\n",
    "for i in categ_cols:\n",
    "    indexer_list.append(StringIndexer(inputCol=i, outputCol=i+\" Index\"))\n",
    "for j in indexer_list:\n",
    "    df = j.fit(df).transform(df)"
   ]
  },
  {
   "cell_type": "markdown",
   "metadata": {},
   "source": [
    "### Drop the original categorical columns"
   ]
  },
  {
   "cell_type": "code",
   "execution_count": 22,
   "metadata": {},
   "outputs": [
    {
     "data": {
      "text/plain": [
       "33"
      ]
     },
     "execution_count": 22,
     "metadata": {},
     "output_type": "execute_result"
    }
   ],
   "source": [
    "df = df.select([c for c in df.columns if c not in categ_cols])\n",
    "df = df.drop('City')\n",
    "len(df.columns)"
   ]
  },
  {
   "cell_type": "markdown",
   "metadata": {},
   "source": [
    "#### There is a datetime column which is actually of type String. We can discard the day and month as they are unlikely to influence policy renewal choices when faced with multi-year insurance policies. We will retain only the year and also change the format from string to numeric."
   ]
  },
  {
   "cell_type": "code",
   "execution_count": 44,
   "metadata": {},
   "outputs": [
    {
     "name": "stdout",
     "output_type": "stream",
     "text": [
      "+-----------------+\n",
      "|Effective_to_Date|\n",
      "+-----------------+\n",
      "|             2020|\n",
      "|             2019|\n",
      "|             2018|\n",
      "+-----------------+\n",
      "\n"
     ]
    }
   ],
   "source": [
    "df = df.withColumn(\"Effective_to_Date\",functions.split(\"Effective_to_Date\", \"-\").getItem(2))\n",
    "df.select('Effective_to_Date').distinct().show()"
   ]
  },
  {
   "cell_type": "code",
   "execution_count": 45,
   "metadata": {},
   "outputs": [],
   "source": [
    "df = df.withColumn(\"Effective_to_Date\", df[\"Effective_to_Date\"].cast(types.IntegerType()))"
   ]
  },
  {
   "cell_type": "markdown",
   "metadata": {},
   "source": [
    "## Load Data\n",
    "### Export the Dataframe to a Database Table in mySQL"
   ]
  },
  {
   "cell_type": "code",
   "execution_count": 70,
   "metadata": {},
   "outputs": [],
   "source": [
    "df.write\\\n",
    "    .format(\"jdbc\")\\\n",
    "    .option(\"url\", \"jdbc:mysql://localhost/Insurance\")\\\n",
    "    .option(\"driver\", \"com.mysql.jdbc.Driver\")\\\n",
    "    .option(\"dbtable\", \"Insurance_numdata\").option(\"user\", \"jsully\")\\\n",
    "    .option(\"password\", \"whatisreal1\").mode('errorifexists').save()"
   ]
  },
  {
   "cell_type": "code",
   "execution_count": null,
   "metadata": {},
   "outputs": [],
   "source": []
  }
 ],
 "metadata": {
  "kernelspec": {
   "display_name": "Python 3",
   "language": "python",
   "name": "python3"
  },
  "language_info": {
   "codemirror_mode": {
    "name": "ipython",
    "version": 3
   },
   "file_extension": ".py",
   "mimetype": "text/x-python",
   "name": "python",
   "nbconvert_exporter": "python",
   "pygments_lexer": "ipython3",
   "version": "3.7.1"
  }
 },
 "nbformat": 4,
 "nbformat_minor": 2
}
