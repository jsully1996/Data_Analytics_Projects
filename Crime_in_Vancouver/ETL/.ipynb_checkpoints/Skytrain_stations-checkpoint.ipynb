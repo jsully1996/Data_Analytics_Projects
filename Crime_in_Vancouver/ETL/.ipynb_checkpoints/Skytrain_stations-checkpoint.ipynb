{
 "cells": [
  {
   "cell_type": "markdown",
   "metadata": {},
   "source": [
    "# Association of Crime with Skytrain stations.\n",
    " Although it is a popular gossip that certain skytrain stations are notorious for crime, let us use the public data to figure out if there is any truth to the matter. Among the many  datasets found in the City of Vancouver Open Data Catalogue is one that lists skytrain stations in the city. There are a total of 22 stations, each of these belong to one of the following three transit lines:\n",
    "\n",
    "* Millenium Line\n",
    "* Expo Line\n",
    "* Canada Line\n",
    " The dataset is in the.kml geographic format and we have a script (Found in the Source folder) that can convert it to a csv file format and convert the original X,Y co-ordinate system to latitude,longitude pairs.\n",
    "In this particular notebook, we attempt to undertake an analysis of crime that occurs with respect to city skytrain stations - in other words, we want to understand the correlation of skytrain station with crime in the city. This can help us answer popular questions such as:\n",
    "Which stations have a prevalence of crime ?\n",
    "How can skytrain stations be categorized with the prevalence and/or type of crime that occurs in them ? and so on. Such observations are useful to a variety of entities. In the most obvious context, it helps law enforcement agencies concentrate their efforts in these particular stations and also alerts residents of potential dangers that might occur in their vicinity. Let us proceed in our analysis step-by-step. First we must import the necessary dependencies."
   ]
  },
  {
   "cell_type": "code",
   "execution_count": 85,
   "metadata": {},
   "outputs": [],
   "source": [
    "from pyspark.sql import SparkSession, functions, types\n",
    "import geopy\n",
    "from geopy.geocoders import Nominatim\n",
    "from geopy.extra.rate_limiter import RateLimiter"
   ]
  },
  {
   "cell_type": "code",
   "execution_count": 6,
   "metadata": {},
   "outputs": [],
   "source": [
    "#Create Spark Session and context\n",
    "spark = SparkSession\\\n",
    "    .builder\\\n",
    "    .appName(\"example code\")\\\n",
    "    .config(\"spark.driver.extraClassPath\",\"/home/jim/spark-2.4.0-bin-hadoop2.7/jars/mysql-connector-java-5.1.49.jar\")\\\n",
    "    .getOrCreate()\n",
    "spark.sparkContext.setLogLevel('WARN')\n",
    "sc = spark.sparkContext\n"
   ]
  },
  {
   "cell_type": "code",
   "execution_count": 131,
   "metadata": {},
   "outputs": [
    {
     "name": "stdout",
     "output_type": "stream",
     "text": [
      "+------------------------+----------------+-----------------+\n",
      "|STATION                 |LATITUDE        |LONGITUDE        |\n",
      "+------------------------+----------------+-----------------+\n",
      "|WATERFRONT              |49.2860754854493|-123.111738155627|\n",
      "|BURRARD                 |49.2858601496754|-123.119972336831|\n",
      "|GRANVILLE               |49.2836376878638|-123.116404027665|\n",
      "|STADIUM - CHINATOWN     |49.2794416930032|-123.109564795656|\n",
      "|MAIN ST. - SCIENCE WORLD|49.2731779129851|-123.100606907519|\n",
      "|BROADWAY                |49.2618178476532|-123.069099402992|\n",
      "|NANAIMO                 |49.2482722113354|-123.055871516595|\n",
      "|29TH AVENUE             |49.2442425934484|-123.045940674179|\n",
      "|JOYCE - COLLINGWOOD     |49.2383938064   |-123.031806717203|\n",
      "|RUPERT                  |49.2607647789351|-123.032823831819|\n",
      "|RENFREW                 |49.2588929116788|-123.045308458871|\n",
      "|COMMERCIAL DRIVE        |49.2629362684988|-123.068453898483|\n",
      "|VCC - CLARK             |49.2657831997804|-123.078962252228|\n",
      "|WATERFRONT              |49.2856657680643|-123.113339268651|\n",
      "|VANCOUVER CITY CENTRE   |49.2817347083362|-123.119284088603|\n",
      "|YALETOWN-ROUNDHOUSE     |49.2743622559558|-123.121890377366|\n",
      "|OLYMPIC VILLAGE         |49.2663402332777|-123.115196678961|\n",
      "|BROADWAY-CITY HALL      |49.2627734692085|-123.114782181714|\n",
      "|KING EDWARD             |49.2491228793651|-123.115336104396|\n",
      "|OAKRIDGE-41st. AVE.     |49.2334668118113|-123.116040675754|\n",
      "|LANGARA-49th AVE.       |49.2263869203022|-123.116324861119|\n",
      "|MARINE DRIVE            |49.2095478744217|-123.117070775897|\n",
      "+------------------------+----------------+-----------------+\n",
      "\n"
     ]
    }
   ],
   "source": [
    "skytrain_df = spark.read.format(\"csv\").option(\"header\", \"true\").load(\"../Data/skytrain_stations/rapid_transit_stations.csv\")\n",
    "skytrain_df = skytrain_df.select(skytrain_df[\"LINE\"].alias(\"STATION\"), skytrain_df[\"LAT\"].alias(\"LATITUDE\"),skytrain_df[\"LONG\"].alias(\"LONGITUDE\"))\n",
    "skytrain_df.show(skytrain_df.count(),truncate=False)"
   ]
  },
  {
   "cell_type": "markdown",
   "metadata": {},
   "source": [
    "#### Here, we have lat/long pairs in the dataset but this is not enough to join it to any other datset based on location. The problem is that LAT/LONG pairs are never exact. For a 13 digit lat/long pair, there will exist only a single block.<BR> <BR> We on the other hand, are considering crime levels by AREA, hence we need a way to generate a 'Neighbourhood' field from the LAT/LONG pair.<BR> Geopy can be use to do so as to that effect "
   ]
  },
  {
   "cell_type": "code",
   "execution_count": 132,
   "metadata": {},
   "outputs": [
    {
     "name": "stdout",
     "output_type": "stream",
     "text": [
      "+------------------------+----------------+-----------------+------------------------+\n",
      "|STATION                 |LATITUDE        |LONGITUDE        |NEIGHBOURHOOD           |\n",
      "+------------------------+----------------+-----------------+------------------------+\n",
      "|WATERFRONT              |49.2860754854493|-123.111738155627|Downtown                |\n",
      "|BURRARD                 |49.2858601496754|-123.119972336831|Downtown                |\n",
      "|GRANVILLE               |49.2836376878638|-123.116404027665|Downtown                |\n",
      "|STADIUM - CHINATOWN     |49.2794416930032|-123.109564795656|Downtown                |\n",
      "|MAIN ST. - SCIENCE WORLD|49.2731779129851|-123.100606907519|Strathcona              |\n",
      "|BROADWAY                |49.2618178476532|-123.069099402992|Kensington-Cedar Cottage|\n",
      "|NANAIMO                 |49.2482722113354|-123.055871516595|Renfrew-Collingwood     |\n",
      "|29TH AVENUE             |49.2442425934484|-123.045940674179|Renfrew-Collingwood     |\n",
      "|JOYCE - COLLINGWOOD     |49.2383938064   |-123.031806717203|Renfrew-Collingwood     |\n",
      "|RUPERT                  |49.2607647789351|-123.032823831819|Renfrew-Collingwood     |\n",
      "|RENFREW                 |49.2588929116788|-123.045308458871|Renfrew-Collingwood     |\n",
      "|COMMERCIAL DRIVE        |49.2629362684988|-123.068453898483|Grandview-Woodland      |\n",
      "|VCC - CLARK             |49.2657831997804|-123.078962252228|Strathcona              |\n",
      "|WATERFRONT              |49.2856657680643|-123.113339268651|Downtown                |\n",
      "|VANCOUVER CITY CENTRE   |49.2817347083362|-123.119284088603|Downtown                |\n",
      "|YALETOWN-ROUNDHOUSE     |49.2743622559558|-123.121890377366|Downtown                |\n",
      "|OLYMPIC VILLAGE         |49.2663402332777|-123.115196678961|Fairview                |\n",
      "|BROADWAY-CITY HALL      |49.2627734692085|-123.114782181714|Mount Pleasant          |\n",
      "|KING EDWARD             |49.2491228793651|-123.115336104396|South Cambie            |\n",
      "|OAKRIDGE-41st. AVE.     |49.2334668118113|-123.116040675754|Oakridge                |\n",
      "|LANGARA-49th AVE.       |49.2263869203022|-123.116324861119|Oakridge                |\n",
      "|MARINE DRIVE            |49.2095478744217|-123.117070775897|Marpole                 |\n",
      "+------------------------+----------------+-----------------+------------------------+\n",
      "\n"
     ]
    }
   ],
   "source": [
    "latitude_list = skytrain_df.select(\"LATITUDE\").rdd.flatMap(lambda x: x).collect()\n",
    "longitude_list = skytrain_df.select(\"LONGITUDE\").rdd.flatMap(lambda x: x).collect()\n",
    "locator = Nominatim(user_agent=\"myGeocoder\")\n",
    "neighbourhood_list = []\n",
    "\n",
    "for i,j in zip(latitude_list,longitude_list):\n",
    "    location = locator.reverse([i,j])\n",
    "    neighbourhood_list.append(location.raw['address']['city_district'])\n",
    "\n",
    "temp_df = skytrain_df.toPandas()\n",
    "temp_df['NEIGHBOURHOOD'] = neighbourhood_list\n",
    "skytrain_df = spark.createDataFrame(temp_df)\n",
    "skytrain_df.show(skytrain_df.count(),truncate=False)    "
   ]
  },
  {
   "cell_type": "markdown",
   "metadata": {},
   "source": [
    "### Now we will load the dataset of crimes that is our main source of crime data\n"
   ]
  },
  {
   "cell_type": "code",
   "execution_count": 133,
   "metadata": {},
   "outputs": [
    {
     "name": "stdout",
     "output_type": "stream",
     "text": [
      "+--------------------+------------------+-------------------+--------------------+\n",
      "|                TYPE|          LATITUDE|          LONGITUDE|       NEIGHBOURHOOD|\n",
      "+--------------------+------------------+-------------------+--------------------+\n",
      "|            Mischief| 49.22285547453633|-123.10457767461014|              Sunset|\n",
      "|    Theft of Vehicle| 49.21942208176436|-123.05928356709362| Victoria-Fraserview|\n",
      "|Break and Enter C...|49.280454355702865|-123.10100566349294|Central Business ...|\n",
      "|            Mischief| 49.29261448054877|-123.13962081805273|            West End|\n",
      "|            Mischief| 49.29260865723727|-123.13945233120421|            West End|\n",
      "|            Mischief|49.281126361961825| -123.0554729922974|    Hastings-Sunrise|\n",
      "|  Theft from Vehicle|49.263002922167225|-123.10655743565438|      Mount Pleasant|\n",
      "|            Mischief| 49.28112610578195|-123.05525671257254|    Hastings-Sunrise|\n",
      "|  Theft from Vehicle| 49.25958751890934| -123.1707943860336|           Kitsilano|\n",
      "|  Theft from Vehicle|49.259582805051586|-123.17045353072422|           Kitsilano|\n",
      "+--------------------+------------------+-------------------+--------------------+\n",
      "only showing top 10 rows\n",
      "\n",
      "Crime Dataset has 523106 rows\n"
     ]
    }
   ],
   "source": [
    "crime_df = spark.read.format(\"csv\").option(\"header\", \"true\").load(\"..//Data/crime/crime_all_years_latlong.csv\")\n",
    "#Drop unrequired columns\n",
    "crime_df = crime_df.select(['TYPE','LATITUDE','LONGITUDE','NEIGHBOURHOOD'])\n",
    "crime_df.show(10,truncate=True)\n",
    "print(\"Crime Dataset has {} rows\".format(crime_df.count()))"
   ]
  },
  {
   "cell_type": "markdown",
   "metadata": {},
   "source": [
    "#### For this exercise, we shall group the crime counts according to neighbourhood. THis way we shall gain an interesting insight into the number of crimes per neighbourhood which we shall then join to the Skytrain table to gain an idea about the crime rate in the surrounding area of the skytrain station. We shall also discard other columns since we only need the neighbourhood and crime count column to join the data"
   ]
  },
  {
   "cell_type": "code",
   "execution_count": 140,
   "metadata": {},
   "outputs": [
    {
     "name": "stdout",
     "output_type": "stream",
     "text": [
      "+-----------------+-----------+\n",
      "|    NEIGHBOURHOOD|CRIME_COUNT|\n",
      "+-----------------+-----------+\n",
      "|         Oakridge|       8698|\n",
      "|      Shaughnessy|       5993|\n",
      "|         Fairview|      34654|\n",
      "|    Arbutus Ridge|       6503|\n",
      "|     Stanley Park|       3977|\n",
      "|             null|       2387|\n",
      "| Hastings-Sunrise|      19838|\n",
      "|   Mount Pleasant|      33786|\n",
      "|Dunbar-Southlands|       8384|\n",
      "|         Musqueam|        560|\n",
      "+-----------------+-----------+\n",
      "only showing top 10 rows\n",
      "\n"
     ]
    }
   ],
   "source": [
    "crime_df = crime_df.select(['TYPE','NEIGHBOURHOOD'])\n",
    "crime_df = crime_df.groupBy('NEIGHBOURHOOD').count().withColumnRenamed('count', 'CRIME_COUNT')\n",
    "crime_df.show(10)"
   ]
  },
  {
   "cell_type": "markdown",
   "metadata": {},
   "source": [
    "### Join the Dataframes\n",
    "The Dataframes have a common column \"NEIGHBOURHOOD\" which is also the primary key for both schemas\n",
    "Since Spark SQL supports native SQL syntax, we can also write join operations after creating temporary tables on DataFrame’s and using spark.sql()"
   ]
  },
  {
   "cell_type": "code",
   "execution_count": 142,
   "metadata": {},
   "outputs": [
    {
     "name": "stdout",
     "output_type": "stream",
     "text": [
      "+--------------------+----------------+-----------------+--------------------+-----------+\n",
      "|             STATION|        LATITUDE|        LONGITUDE|       NEIGHBOURHOOD|CRIME_COUNT|\n",
      "+--------------------+----------------+-----------------+--------------------+-----------+\n",
      "|          WATERFRONT|49.2860754854493|-123.111738155627|            Downtown|       null|\n",
      "|             BURRARD|49.2858601496754|-123.119972336831|            Downtown|       null|\n",
      "|           GRANVILLE|49.2836376878638|-123.116404027665|            Downtown|       null|\n",
      "| STADIUM - CHINATOWN|49.2794416930032|-123.109564795656|            Downtown|       null|\n",
      "|MAIN ST. - SCIENC...|49.2731779129851|-123.100606907519|          Strathcona|      23566|\n",
      "|            BROADWAY|49.2618178476532|-123.069099402992|Kensington-Cedar ...|      26840|\n",
      "|             NANAIMO|49.2482722113354|-123.055871516595| Renfrew-Collingwood|      29294|\n",
      "|         29TH AVENUE|49.2442425934484|-123.045940674179| Renfrew-Collingwood|      29294|\n",
      "| JOYCE - COLLINGWOOD|   49.2383938064|-123.031806717203| Renfrew-Collingwood|      29294|\n",
      "|              RUPERT|49.2607647789351|-123.032823831819| Renfrew-Collingwood|      29294|\n",
      "|             RENFREW|49.2588929116788|-123.045308458871| Renfrew-Collingwood|      29294|\n",
      "|    COMMERCIAL DRIVE|49.2629362684988|-123.068453898483|  Grandview-Woodland|      29725|\n",
      "|         VCC - CLARK|49.2657831997804|-123.078962252228|          Strathcona|      23566|\n",
      "|          WATERFRONT|49.2856657680643|-123.113339268651|            Downtown|       null|\n",
      "|VANCOUVER CITY CE...|49.2817347083362|-123.119284088603|            Downtown|       null|\n",
      "| YALETOWN-ROUNDHOUSE|49.2743622559558|-123.121890377366|            Downtown|       null|\n",
      "|     OLYMPIC VILLAGE|49.2663402332777|-123.115196678961|            Fairview|      34654|\n",
      "|  BROADWAY-CITY HALL|49.2627734692085|-123.114782181714|      Mount Pleasant|      33786|\n",
      "|         KING EDWARD|49.2491228793651|-123.115336104396|        South Cambie|       5626|\n",
      "| OAKRIDGE-41st. AVE.|49.2334668118113|-123.116040675754|            Oakridge|       8698|\n",
      "|   LANGARA-49th AVE.|49.2263869203022|-123.116324861119|            Oakridge|       8698|\n",
      "|        MARINE DRIVE|49.2095478744217|-123.117070775897|             Marpole|      14212|\n",
      "+--------------------+----------------+-----------------+--------------------+-----------+\n",
      "\n",
      "The new Dataset has 22 rows\n"
     ]
    }
   ],
   "source": [
    "#Create Temp tables in SPark.sql\n",
    "skytrain_df.createOrReplaceTempView(\"DF1\")\n",
    "crime_df.createOrReplaceTempView(\"DF2\")\n",
    "\n",
    "#SQL JOIN\n",
    "joined_df = spark.sql(\"SELECT DF1.*,DF2.CRIME_COUNT FROM DF1 LEFT JOIN DF2 ON DF1.NEIGHBOURHOOD = DF2.NEIGHBOURHOOD\")\n",
    "joined_df.show(joined_df.count(),truncate=True)\n",
    "print(\"The new Dataset has {} rows\".format(joined_df.count()))"
   ]
  },
  {
   "cell_type": "markdown",
   "metadata": {},
   "source": [
    "#### We'll save it as a flat file to use in Tableau"
   ]
  },
  {
   "cell_type": "code",
   "execution_count": 143,
   "metadata": {},
   "outputs": [],
   "source": [
    "joined_df.repartition(1).write.format(\"com.databricks.spark.csv\").option(\"header\", \"true\").save(\"Skytrain.csv\")"
   ]
  },
  {
   "cell_type": "markdown",
   "metadata": {},
   "source": [
    "### Here is the Tableau visualization:\n",
    "Each bubble represents a skytrain station and the size of the bubble represents the severity of crime in the vicinity. The Tableau public dashboard can be found at <a href=\"https://public.tableau.com/shared/NTGFY2TG6?:display_count=y&:origin=viz_share_link\">https://public.tableau.com/shared/NTGFY2TG6?:display_count=y&:origin=viz_share_link</a><br>\n",
    "<img src=\"../Visualisation/Raw/Skytrain_Stations.PNG\">"
   ]
  },
  {
   "cell_type": "code",
   "execution_count": null,
   "metadata": {},
   "outputs": [],
   "source": []
  }
 ],
 "metadata": {
  "kernelspec": {
   "display_name": "Python 3",
   "language": "python",
   "name": "python3"
  },
  "language_info": {
   "codemirror_mode": {
    "name": "ipython",
    "version": 3
   },
   "file_extension": ".py",
   "mimetype": "text/x-python",
   "name": "python",
   "nbconvert_exporter": "python",
   "pygments_lexer": "ipython3",
   "version": "3.7.1"
  }
 },
 "nbformat": 4,
 "nbformat_minor": 2
}
