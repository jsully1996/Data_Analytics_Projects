{
 "cells": [
  {
   "cell_type": "markdown",
   "metadata": {},
   "source": [
    "# Crime v/s street lighting \n",
    "The stereotype of crime in a city is that most crime occurs in dark, shady alleys vs. in broad daylight. Since the Vancouver Open Data Catalogue has a neat little dataset that lists street lighting poles throughout the city, we take it upon ourselves to analyse if there is any truth in this notion that crime occurs away from lighting and in more remote places.\n",
    "<br>First we import some dependencies, start a SparkSession and read in the data."
   ]
  },
  {
   "cell_type": "code",
   "execution_count": 33,
   "metadata": {},
   "outputs": [],
   "source": [
    "import pandas as pd\n",
    "import reverse_geocoder as rg\n",
    "from pyspark.sql import SparkSession\n",
    "from pyspark.sql.functions import *\n",
    "from pyspark.sql.types import *\n",
    "import geopy\n",
    "from geopy.geocoders import Nominatim\n",
    "from geopy.extra.rate_limiter import RateLimiter"
   ]
  },
  {
   "cell_type": "code",
   "execution_count": 34,
   "metadata": {},
   "outputs": [],
   "source": [
    "#Create Spark Session and context\n",
    "spark = SparkSession\\\n",
    "    .builder\\\n",
    "    .appName(\"example code\")\\\n",
    "    .config(\"spark.driver.extraClassPath\",\"/home/jim/spark-2.4.0-bin-hadoop2.7/jars/mysql-connector-java-5.1.49.jar\")\\\n",
    "    .getOrCreate()\n",
    "spark.sparkContext.setLogLevel('WARN')\n",
    "sc = spark.sparkContext"
   ]
  },
  {
   "cell_type": "code",
   "execution_count": 35,
   "metadata": {},
   "outputs": [
    {
     "name": "stdout",
     "output_type": "stream",
     "text": [
      "+-----------+----------------+-----------------+------------+\n",
      "|NODE_NUMBER|LAT             |LONG             |BLOCK_NUMBER|\n",
      "+-----------+----------------+-----------------+------------+\n",
      "|1          |49.2678128146707|-123.162324988189|20          |\n",
      "|2          |49.2554200308521|-123.164303441137|26          |\n",
      "|3          |49.2555499673319|-123.164940708487|26          |\n",
      "|1          |49.2555411740844|-123.163704551483|26          |\n",
      "|3          |49.2550272963661|-123.164217031879|25          |\n",
      "|1          |49.2550311396586|-123.163320610485|25          |\n",
      "|2          |49.2550397663404|-123.163758906708|25          |\n",
      "|6          |49.2494750376237|-123.100892983293|39          |\n",
      "|2          |49.2491881601068|-123.100905232449|40          |\n",
      "|5          |49.2489134798837|-123.101144032904|40          |\n",
      "+-----------+----------------+-----------------+------------+\n",
      "only showing top 10 rows\n",
      "\n"
     ]
    }
   ],
   "source": [
    "lights_df = spark.read.format(\"csv\").option(\"header\", \"true\").load(\"../Data/street_lightings/street_lighting_poles.csv\")\n",
    "#lights_df = skytrain_df.select(skytrain_df[\"LINE\"].alias(\"STATION\"), skytrain_df[\"LAT\"].alias(\"LATITUDE\"),skytrain_df[\"LONG\"].alias(\"LONGITUDE\"))\n",
    "lights_df.show(10,truncate=False)"
   ]
  },
  {
   "cell_type": "markdown",
   "metadata": {},
   "source": [
    "#### Here, we have lat/long pairs in the dataset but this is not enough to join it to any other datset based on location. The problem is that LAT/LONG pairs are never exact. For a 13 digit lat/long pair, there will exist only a single block.<BR> <BR> We on the other hand, are considering crime levels by AREA, hence we need a way to generate a 'Neighbourhood' field from the LAT/LONG pair.<BR> Geopy can be use to do so as to that effect "
   ]
  },
  {
   "cell_type": "code",
   "execution_count": 43,
   "metadata": {},
   "outputs": [
    {
     "name": "stdout",
     "output_type": "stream",
     "text": [
      "+-----------+----------------+-----------------+------------+---------------+\n",
      "|NODE_NUMBER|LAT             |LONG             |BLOCK_NUMBER|NEIGHBOURHOOD  |\n",
      "+-----------+----------------+-----------------+------------+---------------+\n",
      "|1          |49.2678128146707|-123.162324988189|20          |West End       |\n",
      "|2          |49.2554200308521|-123.164303441137|26          |West End       |\n",
      "|3          |49.2555499673319|-123.164940708487|26          |West End       |\n",
      "|1          |49.2555411740844|-123.163704551483|26          |West End       |\n",
      "|3          |49.2550272963661|-123.164217031879|25          |West End       |\n",
      "|1          |49.2550311396586|-123.163320610485|25          |West End       |\n",
      "|2          |49.2550397663404|-123.163758906708|25          |West End       |\n",
      "|6          |49.2494750376237|-123.100892983293|39          |Vancouver      |\n",
      "|2          |49.2491881601068|-123.100905232449|40          |Vancouver      |\n",
      "|5          |49.2489134798837|-123.101144032904|40          |Vancouver      |\n",
      "|3          |49.2491902746116|-123.101130843981|40          |Vancouver      |\n",
      "|1          |49.2494371200432|-123.101122416729|40          |Vancouver      |\n",
      "|4          |49.2488928563103|-123.100904589409|40          |Vancouver      |\n",
      "|1          |49.2490912187289|-123.100305876395|40          |Vancouver      |\n",
      "|1          |49.2866711999816|-123.058526619504|72          |North Vancouver|\n",
      "+-----------+----------------+-----------------+------------+---------------+\n",
      "only showing top 15 rows\n",
      "\n"
     ]
    }
   ],
   "source": [
    "latitude_list = lights_df.select(\"LAT\").rdd.flatMap(lambda x: x).collect()\n",
    "longitude_list = lights_df.select(\"LONG\").rdd.flatMap(lambda x: x).collect()\n",
    "neighbourhood_list = []\n",
    "\n",
    "for i,j in zip(latitude_list,longitude_list):\n",
    "    result = rg.search([i,j])\n",
    "    neighbourhood_list.append(result[0]['name'])\n",
    "\n",
    "temp_df = lights_df.toPandas()\n",
    "temp_df['NEIGHBOURHOOD'] = neighbourhood_list\n",
    "lights_df = spark.createDataFrame(temp_df)\n",
    "lights_df.show(15,truncate=False) "
   ]
  },
  {
   "cell_type": "markdown",
   "metadata": {},
   "source": [
    "### Now we will load the dataset of crimes that is our main source of crime data"
   ]
  },
  {
   "cell_type": "code",
   "execution_count": 45,
   "metadata": {},
   "outputs": [
    {
     "name": "stdout",
     "output_type": "stream",
     "text": [
      "+--------------------+------------------+------------------+-------------------+--------------------+\n",
      "|                TYPE|     HUNDRED_BLOCK|          LATITUDE|          LONGITUDE|       NEIGHBOURHOOD|\n",
      "+--------------------+------------------+------------------+-------------------+--------------------+\n",
      "|            Mischief|     6X E 52ND AVE| 49.22285547453633|-123.10457767461014|              Sunset|\n",
      "|    Theft of Vehicle|   71XX NANAIMO ST| 49.21942208176436|-123.05928356709362| Victoria-Fraserview|\n",
      "|Break and Enter C...|   1XX E PENDER ST|49.280454355702865|-123.10100566349294|Central Business ...|\n",
      "|            Mischief|     9XX CHILCO ST| 49.29261448054877|-123.13962081805273|            West End|\n",
      "|            Mischief|     9XX CHILCO ST| 49.29260865723727|-123.13945233120421|            West End|\n",
      "|            Mischief|24XX E HASTINGS ST|49.281126361961825| -123.0554729922974|    Hastings-Sunrise|\n",
      "|  Theft from Vehicle| 8X W BROADWAY AVE|49.263002922167225|-123.10655743565438|      Mount Pleasant|\n",
      "|            Mischief|24XX E HASTINGS ST| 49.28112610578195|-123.05525671257254|    Hastings-Sunrise|\n",
      "|  Theft from Vehicle|   29XX W 14TH AVE| 49.25958751890934| -123.1707943860336|           Kitsilano|\n",
      "|  Theft from Vehicle|   29XX W 14TH AVE|49.259582805051586|-123.17045353072422|           Kitsilano|\n",
      "+--------------------+------------------+------------------+-------------------+--------------------+\n",
      "only showing top 10 rows\n",
      "\n",
      "Crime Dataset has 523106 rows\n"
     ]
    }
   ],
   "source": [
    "crime_df = spark.read.format(\"csv\").option(\"header\", \"true\").load(\"..//Data/crime/crime_all_years_latlong.csv\")\n",
    "#Drop unrequired columns\n",
    "crime_df = crime_df.select(['TYPE','HUNDRED_BLOCK','LATITUDE','LONGITUDE','NEIGHBOURHOOD'])\n",
    "crime_df.show(10,truncate=True)\n",
    "print(\"Crime Dataset has {} rows\".format(crime_df.count()))"
   ]
  },
  {
   "cell_type": "markdown",
   "metadata": {},
   "source": [
    "#### We must now get this dataset into a proper format so as it can be meaningfully joined to the Street Light data"
   ]
  },
  {
   "cell_type": "code",
   "execution_count": 47,
   "metadata": {},
   "outputs": [
    {
     "name": "stdout",
     "output_type": "stream",
     "text": [
      "+--------------------+-------------+--------------------+\n",
      "|                TYPE|HUNDRED_BLOCK|       NEIGHBOURHOOD|\n",
      "+--------------------+-------------+--------------------+\n",
      "|            Mischief|           60|              Sunset|\n",
      "|    Theft of Vehicle|           71| Victoria-Fraserview|\n",
      "|Break and Enter C...|           10|Central Business ...|\n",
      "|            Mischief|           90|            West End|\n",
      "|            Mischief|           90|            West End|\n",
      "|            Mischief|           24|    Hastings-Sunrise|\n",
      "|  Theft from Vehicle|           80|      Mount Pleasant|\n",
      "|            Mischief|           24|    Hastings-Sunrise|\n",
      "|  Theft from Vehicle|           29|           Kitsilano|\n",
      "|  Theft from Vehicle|           29|           Kitsilano|\n",
      "+--------------------+-------------+--------------------+\n",
      "only showing top 10 rows\n",
      "\n"
     ]
    }
   ],
   "source": [
    "df.select(df.key,f.when(df.user_id.isin(['not_set', 'n/a', 'N/A']),None).otherwise(df.user_id)).show()\n",
    "\n",
    "crime_df = crime_df.select(['TYPE','HUNDRED_BLOCK','NEIGHBOURHOOD'])\n",
    "crime_df = crime_df.withColumn(\"HUNDRED_BLOCK\",expr(\"substring(HUNDRED_BLOCK, 0, 2)\"))\n",
    "crime_df = crime_df.withColumn('HUNDRED_BLOCK', regexp_replace('HUNDRED_BLOCK', 'X', '0'))\n",
    "crime_df.show(10,truncate=True)"
   ]
  },
  {
   "cell_type": "markdown",
   "metadata": {},
   "source": [
    "#### Upon merging the Hundred_BLOCK and Neighbourhood values as a common column, we can join it on the streetlight dataset (after using the same transformation on it) to sufficiently narrow down street nights in each 10-block radius and associate crime in the area with it"
   ]
  },
  {
   "cell_type": "code",
   "execution_count": 55,
   "metadata": {},
   "outputs": [
    {
     "name": "stdout",
     "output_type": "stream",
     "text": [
      "+-----------+----------------+-----------------+------------+---------------+-----------+\n",
      "|NODE_NUMBER|             LAT|             LONG|BLOCK_NUMBER|  NEIGHBOURHOOD|CRIME_COUNT|\n",
      "+-----------+----------------+-----------------+------------+---------------+-----------+\n",
      "|          1|49.2678128146707|-123.162324988189|          20|       West End|      20713|\n",
      "|          2|49.2554200308521|-123.164303441137|          26|       West End|       5916|\n",
      "|          3|49.2555499673319|-123.164940708487|          26|       West End|       5916|\n",
      "|          1|49.2555411740844|-123.163704551483|          26|       West End|       5916|\n",
      "|          3|49.2550272963661|-123.164217031879|          25|       West End|       6913|\n",
      "|          1|49.2550311396586|-123.163320610485|          25|       West End|       6913|\n",
      "|          2|49.2550397663404|-123.163758906708|          25|       West End|       6913|\n",
      "|          6|49.2494750376237|-123.100892983293|          39|      Vancouver|       1756|\n",
      "|          2|49.2491881601068|-123.100905232449|          40|      Vancouver|      16043|\n",
      "|          5|49.2489134798837|-123.101144032904|          40|      Vancouver|      16043|\n",
      "|          3|49.2491902746116|-123.101130843981|          40|      Vancouver|      16043|\n",
      "|          1|49.2494371200432|-123.101122416729|          40|      Vancouver|      16043|\n",
      "|          4|49.2488928563103|-123.100904589409|          40|      Vancouver|      16043|\n",
      "|          1|49.2490912187289|-123.100305876395|          40|      Vancouver|      16043|\n",
      "|          1|49.2866711999816|-123.058526619504|          72|North Vancouver|        810|\n",
      "+-----------+----------------+-----------------+------------+---------------+-----------+\n",
      "only showing top 15 rows\n",
      "\n",
      "The new Dataset has 56042 rows\n"
     ]
    }
   ],
   "source": [
    "#Create Temp tables in SPark.sql\n",
    "lights_df.createOrReplaceTempView(\"DF1\")\n",
    "crime_df.createOrReplaceTempView(\"DF2\")\n",
    "\n",
    "#SQL JOIN\n",
    "joined_df = spark.sql(\"SELECT DF1.*,DF2.CRIME_COUNT FROM DF1 LEFT JOIN DF2 ON DF1.BLOCK_NUMBER = DF2.HUNDRED_BLOCK\")\n",
    "joined_df.show(15,truncate=True)\n",
    "print(\"The new Dataset has {} rows\".format(joined_df.count()))"
   ]
  },
  {
   "cell_type": "code",
   "execution_count": 56,
   "metadata": {},
   "outputs": [],
   "source": [
    "joined_df.repartition(1).write.format(\"com.databricks.spark.csv\").option(\"header\", \"true\").save(\"Street_Lights.csv\")"
   ]
  },
  {
   "cell_type": "markdown",
   "metadata": {},
   "source": [
    "## Here is the Tableau visualization:\n",
    "The street lights are plotted on the map in a range of yellow to orange to red. The color intensity changes from yellow to red with the intensity of crime. The Tableau public dashboard can be found at <a href=\"https://public.tableau.com/views/StreetLighting_Crime/Dashboard1?:language=en&:display_count=y&publish=yes&:origin=viz_share_link\">https://public.tableau.com/views/StreetLighting_Crime/Dashboard1?:language=en&:display_count=y&publish=yes&:origin=viz_share_link\n",
    "</a><br>\n",
    "<img src=\"../Visualisation/Raw/Street_Lights.png\">\n"
   ]
  }
 ],
 "metadata": {
  "kernelspec": {
   "display_name": "Python 3",
   "language": "python",
   "name": "python3"
  }
 },
 "nbformat": 4,
 "nbformat_minor": 2
}
