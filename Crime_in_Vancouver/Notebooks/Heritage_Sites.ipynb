{
 "cells": [
  {
   "cell_type": "markdown",
   "metadata": {},
   "source": [
    "# Crime near Heritage Sites\n",
    "There are approximately 2200 structures listed as  heritage sites within the Vancouver city limits. In this notebook, we attempt to take a close look at how much crime is committed in the vicinity of these sites."
   ]
  },
  {
   "cell_type": "code",
   "execution_count": 4,
   "metadata": {},
   "outputs": [],
   "source": [
    "import pandas as pd\n",
    "from pyspark.sql import SparkSession\n",
    "from pyspark.sql.functions import *\n",
    "from pyspark.sql.types import *"
   ]
  },
  {
   "cell_type": "code",
   "execution_count": 5,
   "metadata": {},
   "outputs": [],
   "source": [
    "#Create Spark Session and context\n",
    "spark = SparkSession\\\n",
    "    .builder\\\n",
    "    .appName(\"example code\")\\\n",
    "    .config(\"spark.driver.extraClassPath\",\"/home/jim/spark-2.4.0-bin-hadoop2.7/jars/mysql-connector-java-5.1.49.jar\")\\\n",
    "    .getOrCreate()\n",
    "spark.sparkContext.setLogLevel('WARN')\n",
    "sc = spark.sparkContext"
   ]
  },
  {
   "cell_type": "code",
   "execution_count": 7,
   "metadata": {},
   "outputs": [
    {
     "name": "stdout",
     "output_type": "stream",
     "text": [
      "+---+---------------------+------------------+----------+------------------+----+-----------+--------------------+--------------------+----------+-------+----------------+-----------------+\n",
      "|ID |Address              |BuildingName      |Street_Nbr|Street            |VHR |Designation|Zoning              |LocalArea           |Land_Coord|HRA_HCC|Latitude        |Longitude        |\n",
      "+---+---------------------+------------------+----------+------------------+----+-----------+--------------------+--------------------+----------+-------+----------------+-----------------+\n",
      "|1  |36 BLOOD ALLEY SQUARE|null              |36        |BLOOD ALLEY SQUARE|B   |M          |HA-2                |CENTRL BUSNES/DWNTWN|58917265  |null   |49.2828738098464|-123.105225398754|\n",
      "|2  |2723 WOODLAND DRIVE  |null              |2723      |WOODLAND DRIVE    |B   |null       |RT-5                |KENSINGTON-CEDAR COT|23466523  |null   |49.2600769493209|-123.074046917561|\n",
      "|3  |2080 W 36TH AV       |null              |2080      |W 36TH AV         |C   |null       |RS-5                |SHAUGHNESSY         |73709116  |null   |49.2389033094729|-123.154237368533|\n",
      "|4  |866 E BROADWAY       |null              |866       |E BROADWAY        |B   |null       |RM-4N               |MOUNT PLEASANT      |65021270  |null   |49.2621356773046|-123.085603327158|\n",
      "|5  |1417 W 11TH AV       |null              |1417      |W 11TH AV         |C   |M          |RM-3                |FAIRVIEW            |66413085  |H      |49.261948887911 |-123.136713198289|\n",
      "|6  |2625 W 2ND AV        |null              |2625      |W 2ND AV          |B   |null       |RT-8                |KITSILANO           |63607267  |null   |49.2703621626003|-123.165116703005|\n",
      "|7  |4208 W 13TH AV       |null              |4208      |W 13TH AV         |B   |null       |RS-1                |WEST POINT GREY     |68302794  |null   |49.2606925359374|-123.200353485935|\n",
      "|8  |641 E GEORGIA ST     |INFILL DWELLING   |641       |E GEORGIA ST      |null|M          |RT-3                |STRATHCONA          |59619841  |null   |49.2786667720091|-123.090587526348|\n",
      "|9  |309 CARRALL ST       |null              |309       |CARRALL ST        |C   |M          |HA-2                |CENTRL BUSNES/DWNTWN|58917296  |null   |49.2822373252557|-123.104605551032|\n",
      "|10 |16 E CORDOVA ST      |null              |16        |E CORDOVA ST      |null|M          |HA-2                |CENTRL BUSNES/DWNTWN|58917808  |null   |49.2821072095572|-123.10372797221 |\n",
      "+---+---------------------+------------------+----------+------------------+----+-----------+--------------------+--------------------+----------+-------+----------------+-----------------+\n",
      "only showing top 10 rows\n",
      "\n",
      "The Heritage Sites dataset has 2287 rows\n"
     ]
    }
   ],
   "source": [
    "heritage = spark.read.format(\"csv\").option(\"header\", \"true\").load(\"../Data/heritage_sites.csv\")\n",
    "heritage.show(10,truncate=False)\n",
    "print('The Heritage Sites dataset has {} rows'.format(heritage.count()))"
   ]
  },
  {
   "cell_type": "code",
   "execution_count": 8,
   "metadata": {},
   "outputs": [
    {
     "data": {
      "text/plain": [
       "['ID',\n",
       " 'Address',\n",
       " 'BuildingName',\n",
       " 'Street_Nbr',\n",
       " 'Street',\n",
       " 'VHR',\n",
       " 'Designation',\n",
       " 'Zoning',\n",
       " 'LocalArea',\n",
       " 'Land_Coord',\n",
       " 'HRA_HCC',\n",
       " 'Latitude',\n",
       " 'Longitude']"
      ]
     },
     "execution_count": 8,
     "metadata": {},
     "output_type": "execute_result"
    }
   ],
   "source": [
    "heritage.columns"
   ]
  },
  {
   "cell_type": "markdown",
   "metadata": {},
   "source": [
    "#### We shall clean the dataset a little now"
   ]
  },
  {
   "cell_type": "code",
   "execution_count": 14,
   "metadata": {},
   "outputs": [
    {
     "name": "stdout",
     "output_type": "stream",
     "text": [
      "+---+---------------+--------------------+----------------+-----------------+\n",
      "|ID |BuildingName   |LocalArea           |Latitude        |Longitude        |\n",
      "+---+---------------+--------------------+----------------+-----------------+\n",
      "|1  |Name Unknown   |CENTRL BUSNES/DWNTWN|49.2828738098464|-123.105225398754|\n",
      "|2  |Name Unknown   |KENSINGTON-CEDAR COT|49.2600769493209|-123.074046917561|\n",
      "|3  |Name Unknown   |SHAUGHNESSY         |49.2389033094729|-123.154237368533|\n",
      "|4  |Name Unknown   |MOUNT PLEASANT      |49.2621356773046|-123.085603327158|\n",
      "|5  |Name Unknown   |FAIRVIEW            |49.261948887911 |-123.136713198289|\n",
      "|6  |Name Unknown   |KITSILANO           |49.2703621626003|-123.165116703005|\n",
      "|7  |Name Unknown   |WEST POINT GREY     |49.2606925359374|-123.200353485935|\n",
      "|8  |INFILL DWELLING|STRATHCONA          |49.2786667720091|-123.090587526348|\n",
      "|9  |Name Unknown   |CENTRL BUSNES/DWNTWN|49.2822373252557|-123.104605551032|\n",
      "|10 |Name Unknown   |CENTRL BUSNES/DWNTWN|49.2821072095572|-123.10372797221 |\n",
      "+---+---------------+--------------------+----------------+-----------------+\n",
      "only showing top 10 rows\n",
      "\n"
     ]
    }
   ],
   "source": [
    "#Retain only necessary columns\n",
    "heritage = heritage.select('ID','BuildingName','LocalArea','Latitude','Longitude')\n",
    "#Rewrite null values in BuildingName\n",
    "heritage = heritage.na.fill(\"Name Unknown\", 'BuildingName')\n",
    "heritage = heritage.withColumn(\"BuildingName\", trim(heritage.BuildingName))\n",
    "heritage = heritage.withColumn(\"LocalArea\", trim(heritage.LocalArea))\n",
    "heritage.show(10,truncate=False)"
   ]
  },
  {
   "cell_type": "markdown",
   "metadata": {},
   "source": [
    "## Now we will load the dataset of crimes that is our main source of crime data"
   ]
  },
  {
   "cell_type": "code",
   "execution_count": 31,
   "metadata": {},
   "outputs": [
    {
     "name": "stdout",
     "output_type": "stream",
     "text": [
      "+--------------------+--------------------+------------------+-------------------+\n",
      "|                TYPE|       NEIGHBOURHOOD|          LATITUDE|          LONGITUDE|\n",
      "+--------------------+--------------------+------------------+-------------------+\n",
      "|            Mischief|              Sunset| 49.22285547453633|-123.10457767461014|\n",
      "|    Theft of Vehicle| Victoria-Fraserview| 49.21942208176436|-123.05928356709362|\n",
      "|Break and Enter C...|Central Business ...|49.280454355702865|-123.10100566349294|\n",
      "|            Mischief|            West End| 49.29261448054877|-123.13962081805273|\n",
      "|            Mischief|            West End| 49.29260865723727|-123.13945233120421|\n",
      "|            Mischief|    Hastings-Sunrise|49.281126361961825| -123.0554729922974|\n",
      "|  Theft from Vehicle|      Mount Pleasant|49.263002922167225|-123.10655743565438|\n",
      "|            Mischief|    Hastings-Sunrise| 49.28112610578195|-123.05525671257254|\n",
      "|  Theft from Vehicle|           Kitsilano| 49.25958751890934| -123.1707943860336|\n",
      "|  Theft from Vehicle|           Kitsilano|49.259582805051586|-123.17045353072422|\n",
      "+--------------------+--------------------+------------------+-------------------+\n",
      "only showing top 10 rows\n",
      "\n",
      "Crime Dataset has 520719 rows\n"
     ]
    }
   ],
   "source": [
    "crime_df = spark.read.format(\"csv\").option(\"header\", \"true\").load(\"..//Data/crime/crime_all_years_latlong.csv\")\n",
    "#Drop unrequired columns\n",
    "crime_df = crime_df.select(['TYPE','NEIGHBOURHOOD','LATITUDE','LONGITUDE'])\n",
    "crime_df = crime_df.dropna(how='any')\n",
    "crime_df.show(10,truncate=True)\n",
    "print(\"Crime Dataset has {} rows\".format(crime_df.count()))"
   ]
  },
  {
   "cell_type": "markdown",
   "metadata": {},
   "source": [
    "### We must now get this dataset into a proper format so as it can be meaningfully joined to the Heritae Site data\n",
    "Upon merging the Hundred_BLOCK and Neighbourhood values as a common column, we can join it on the streetlight dataset (after using the same transformation on it) to sufficiently narrow down street nights in each 10-block radius and associate crime in the area with it"
   ]
  },
  {
   "cell_type": "code",
   "execution_count": 32,
   "metadata": {},
   "outputs": [
    {
     "name": "stdout",
     "output_type": "stream",
     "text": [
      "+----------------+-----------+\n",
      "|   NEIGHBOURHOOD|CRIME_COUNT|\n",
      "+----------------+-----------+\n",
      "|        MUSQUEAM|        560|\n",
      "|       KITSILANO|      29038|\n",
      "|        WEST END|      45268|\n",
      "| WEST POINT GREY|       6365|\n",
      "|    SOUTH CAMBIE|       5626|\n",
      "|      KERRISDALE|       8026|\n",
      "|        FAIRVIEW|      34654|\n",
      "|HASTINGS-SUNRISE|      19838|\n",
      "|          SUNSET|      18628|\n",
      "|     SHAUGHNESSY|       5993|\n",
      "+----------------+-----------+\n",
      "only showing top 10 rows\n",
      "\n"
     ]
    }
   ],
   "source": [
    "crime_df = crime_df.select(['TYPE','NEIGHBOURHOOD'])\n",
    "#We convert this column to Proper Case so it can be joined properly\n",
    "crime_df = crime_df.withColumn(\"NEIGHBOURHOOD\",upper(col(\"NEIGHBOURHOOD\")))\n",
    "crime_df = crime_df.groupBy('NEIGHBOURHOOD').count().withColumnRenamed('count', 'CRIME_COUNT')\n",
    "crime_df.show(10)"
   ]
  },
  {
   "cell_type": "markdown",
   "metadata": {},
   "source": [
    "### Now we join the datasets"
   ]
  },
  {
   "cell_type": "code",
   "execution_count": 33,
   "metadata": {},
   "outputs": [
    {
     "name": "stdout",
     "output_type": "stream",
     "text": [
      "+---+---------------+--------------------+----------------+-----------------+-----------+\n",
      "| ID|   BuildingName|           LocalArea|        Latitude|        Longitude|CRIME_COUNT|\n",
      "+---+---------------+--------------------+----------------+-----------------+-----------+\n",
      "|  1|   Name Unknown|CENTRL BUSNES/DWNTWN|49.2828738098464|-123.105225398754|       null|\n",
      "|  2|   Name Unknown|KENSINGTON-CEDAR COT|49.2600769493209|-123.074046917561|       null|\n",
      "|  3|   Name Unknown|         SHAUGHNESSY|49.2389033094729|-123.154237368533|       5993|\n",
      "|  4|   Name Unknown|      MOUNT PLEASANT|49.2621356773046|-123.085603327158|      33786|\n",
      "|  5|   Name Unknown|            FAIRVIEW| 49.261948887911|-123.136713198289|      34654|\n",
      "|  6|   Name Unknown|           KITSILANO|49.2703621626003|-123.165116703005|      29038|\n",
      "|  7|   Name Unknown|     WEST POINT GREY|49.2606925359374|-123.200353485935|       6365|\n",
      "|  8|INFILL DWELLING|          STRATHCONA|49.2786667720091|-123.090587526348|      23566|\n",
      "|  9|   Name Unknown|CENTRL BUSNES/DWNTWN|49.2822373252557|-123.104605551032|       null|\n",
      "| 10|   Name Unknown|CENTRL BUSNES/DWNTWN|49.2821072095572| -123.10372797221|       null|\n",
      "| 11|   Name Unknown|CENTRL BUSNES/DWNTWN|49.2837155646342|-123.103377016628|       null|\n",
      "| 12|   Name Unknown|          STRATHCONA|49.2767739198248|-123.085930253544|      23566|\n",
      "| 13|  RADELET HOUSE|           KITSILANO|  49.26662164168|-123.151933029084|      29038|\n",
      "| 14|   Name Unknown|  GRANDVIEW-WOODLAND|49.2794657561572|-123.063208710363|      29725|\n",
      "| 15|   Name Unknown|          RILEY PARK|49.2488963433254|-123.096461841129|      13695|\n",
      "+---+---------------+--------------------+----------------+-----------------+-----------+\n",
      "only showing top 15 rows\n",
      "\n",
      "The new Dataset has 2287 rows\n"
     ]
    }
   ],
   "source": [
    "#Create Temp tables in SPark.sql\n",
    "heritage.createOrReplaceTempView(\"DF1\")\n",
    "crime_df.createOrReplaceTempView(\"DF2\")\n",
    "\n",
    "#SQL JOIN\n",
    "joined_df = spark.sql(\"\"\"SELECT DF1.*,\n",
    "                      DF2.CRIME_COUNT  \n",
    "                      FROM DF1 LEFT JOIN DF2 ON DF1.LocalArea = DF2.NEIGHBOURHOOD\"\"\")\n",
    "joined_df.show(15,truncate=True)\n",
    "print(\"The new Dataset has {} rows\".format(joined_df.count()))"
   ]
  },
  {
   "cell_type": "code",
   "execution_count": 34,
   "metadata": {},
   "outputs": [],
   "source": [
    "joined_df.repartition(1).write.format(\"com.databricks.spark.csv\").option(\"header\", \"true\").save(\"Heritage.csv\")"
   ]
  },
  {
   "cell_type": "markdown",
   "metadata": {},
   "source": [
    "## Here is the Tableau visualization:\n",
    "The map shows crime density near heritage sites. The deeply red areas are those that house a lot of crime near heritage sites. The other markers represents heritage sites and highlights the severity of crime near them. Click on a marker to view the count of crime in the vicinity and the name of the heritage site.  The Tableau public dashboard can be found at <a href=\"https://public.tableau.com/views/HeritageSites_Crime/Dashboard1?:language=en&:display_count=y&publish=yes&:origin=viz_share_link\">https://public.tableau.com/views/HeritageSites_Crime/Dashboard1?:language=en&:display_count=y&publish=yes&:origin=viz_share_link\n",
    "</a><br>\n",
    "<img src=\"../Visualisation/Raw/Heritage.png\">\n"
   ]
  },
  {
   "cell_type": "code",
   "execution_count": null,
   "metadata": {},
   "outputs": [],
   "source": []
  }
 ],
 "metadata": {
  "kernelspec": {
   "display_name": "Python 3",
   "language": "python",
   "name": "python3"
  },
  "language_info": {
   "codemirror_mode": {
    "name": "ipython",
    "version": 3
   },
   "file_extension": ".py",
   "mimetype": "text/x-python",
   "name": "python",
   "nbconvert_exporter": "python",
   "pygments_lexer": "ipython3",
   "version": "3.7.1"
  }
 },
 "nbformat": 4,
 "nbformat_minor": 2
}
