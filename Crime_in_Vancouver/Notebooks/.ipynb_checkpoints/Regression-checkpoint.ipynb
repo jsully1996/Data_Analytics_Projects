{
 "cells": [
  {
   "cell_type": "markdown",
   "metadata": {},
   "source": [
    "# Predicting Future Crime\n",
    "\n",
    "The Spark ML library presents some excellent models and structures that make use of inbuilt machine learning methods to build ML pipelines and workflow. Let us see if we can deploy one such pipeline using any of the provided models to predict future occurences of crime in the city of Vancouver. Using our dataset of crime, we can feed the model with occurences of crime over the past 15 years to have it estimate crimes that are likely to occur in the coming years.<BR>           We have several excellent features that can be used to that effect. Some of them are:\n",
    "* Neighbourhood\n",
    "* Co-ordinates (Lat,Long)\n",
    "* Hundred-block\n",
    "<p align=\"left\">and so on. For this prediction, we shall use a  Multinomial Logistic Regression model. Logistic regression analysis is used to examine the association of (categorical or continuous) independent variable(s) with one dichotomous dependent variable. This is in contrast to linear regression analysis in which the dependent variable is a continuous variable.\n",
    "For this purpose, we will use the 'supercrime.csv'dataset. This dataset is an amalgation of the crime dataset joined on every other dataset : such as churches, schools, street_lights, skytrain_stations, police_quarters etc. from the Open Data Catalogue. The point is to use all of these as feature vectors that can help us make a more efficient prediction as to the future crime spots. For the predictor column, we shall choose the \"Neighbourhood\" column since it is discrete and ties in well with the use-case of Multinomial Logistic Regression."
   ]
  },
  {
   "cell_type": "code",
   "execution_count": 5,
   "metadata": {},
   "outputs": [],
   "source": [
    "from pyspark.sql import SparkSession\n",
    "from pyspark.sql.functions import *\n",
    "from pyspark.sql.types import *\n",
    "from pyspark.ml.feature import *\n",
    "from pyspark.ml.classification import LogisticRegression\n",
    "from pyspark.ml.evaluation import MulticlassClassificationEvaluator\n",
    "\n",
    "## standard imports\n",
    "import numpy as np\n",
    "import pandas as pd\n",
    "import random as rd\n",
    "import seaborn as sns\n",
    "import matplotlib.pyplot as plt"
   ]
  },
  {
   "cell_type": "code",
   "execution_count": 6,
   "metadata": {},
   "outputs": [
    {
     "data": {
      "text/html": [
       "\n",
       "            <div>\n",
       "                <p><b>SparkSession - hive</b></p>\n",
       "                \n",
       "        <div>\n",
       "            <p><b>SparkContext</b></p>\n",
       "\n",
       "            <p><a href=\"http://192.168.1.101:4040\">Spark UI</a></p>\n",
       "\n",
       "            <dl>\n",
       "              <dt>Version</dt>\n",
       "                <dd><code>v2.4.0</code></dd>\n",
       "              <dt>Master</dt>\n",
       "                <dd><code>local[2]</code></dd>\n",
       "              <dt>AppName</dt>\n",
       "                <dd><code>PySparkShell</code></dd>\n",
       "            </dl>\n",
       "        </div>\n",
       "        \n",
       "            </div>\n",
       "        "
      ],
      "text/plain": [
       "<pyspark.sql.session.SparkSession at 0x7fbb90794048>"
      ]
     },
     "execution_count": 6,
     "metadata": {},
     "output_type": "execute_result"
    }
   ],
   "source": [
    "#Create Spark Session and context\n",
    "spark = SparkSession\\\n",
    "    .builder\\\n",
    "    .appName(\"Crime_Prediction\")\\\n",
    "    .config(\"spark.driver.extraClassPath\",\"/home/jim/spark-2.4.0-bin-hadoop2.7/jars/mysql-connector-java-5.1.49.jar\")\\\n",
    "    .getOrCreate()\n",
    "spark.sparkContext.setLogLevel('WARN')\n",
    "sc = spark.sparkContext\n",
    "spark"
   ]
  },
  {
   "cell_type": "code",
   "execution_count": 34,
   "metadata": {},
   "outputs": [
    {
     "name": "stdout",
     "output_type": "stream",
     "text": [
      "+--------------------+----+-----+---+----+------+----------------+--------------------+---------+-----------+--------------------+--------------------+--------------------+\n",
      "|                TYPE|YEAR|MONTH|DAY|HOUR|MINUTE|   HUNDRED_BLOCK|       NEIGHBOURHOOD| LATITUDE|  LONGITUDE|            FACILITY|             STATION|              SCHOOL|\n",
      "+--------------------+----+-----+---+----+------+----------------+--------------------+---------+-----------+--------------------+--------------------+--------------------+\n",
      "|Break and Enter C...|2003|    2|  2|   3|    36|5XX SE MARINE DR|              Sunset|49.210945| -123.09387| Tenth Avenue Church|        MARINE DRIVE|Pierre Elliott Tr...|\n",
      "|Break and Enter C...|2003|    2| 17|   7|    51|   3XX E 8TH AVE|      Mount Pleasant|49.263584| -123.09694| Tenth Avenue Church|MAIN ST. - SCIENC...|Mount Pleasant El...|\n",
      "|Break and Enter C...|2003|    2| 17|   7|    51|   3XX E 8TH AVE|      Mount Pleasant|49.263584| -123.09694| Tenth Avenue Church|MAIN ST. - SCIENC...|Mount Pleasant St...|\n",
      "|Break and Enter C...|2003|    3|  8|   0|    15|    64XX MAIN ST|              Sunset|49.225735| -123.10157| Tenth Avenue Church| LANGARA-\\n49th AVE.|         St Andrew's|\n",
      "|Break and Enter C...|2003|    4| 24|  18|     0|13XX RICHARDS ST|Central Business ...|49.274113| -123.12703|      Covenant House|YALETOWN-/nROUNDH...|Elsie Roy Elementary|\n",
      "|Break and Enter C...|2003|    5| 25|  19|    30| 16XX RENFREW ST|    Hastings-Sunrise|49.269756| -123.04415|Grandview Calvary...|             RENFREW|Chief Maquinna Annex|\n",
      "|Break and Enter C...|2003|    6|  1|  16|     0|  12XX ADANAC ST|          Strathcona|49.277733| -123.07846|              Triage|         VCC - CLARK|Admiral Seymour E...|\n",
      "|Break and Enter C...|2003|    6|  1|  16|     0|  12XX ADANAC ST|          Strathcona|49.277733| -123.07846|              Triage|         VCC - CLARK|Admiral Seymour S...|\n",
      "|Break and Enter C...|2003|    9|  7|  14|     0|   1XX W 6TH AVE|      Mount Pleasant| 49.26557| -123.10734| Tenth Avenue Church|    OLYMPIC\\nVILLAGE|St Patrick Region...|\n",
      "|Break and Enter C...|2003|   10| 24|   4|     0| 25XX NANAIMO ST|Kensington-Cedar ...| 49.26191|-123.056656|Grandview Calvary...|             RENFREW|Laura Secord Elem...|\n",
      "+--------------------+----+-----+---+----+------+----------------+--------------------+---------+-----------+--------------------+--------------------+--------------------+\n",
      "only showing top 10 rows\n",
      "\n"
     ]
    }
   ],
   "source": [
    "df = (spark.read.format(\"csv\").option('header', 'true').load(\"/home/jim/Documents/Data_Analytics_Projects/Crime_in_Vancouver/Data/supercrime.csv\"))\n",
    "# Caching this data frame as it's going to be read over and over again\n",
    "df = df.cache()\n",
    "df.show(10,truncate=True)"
   ]
  },
  {
   "cell_type": "code",
   "execution_count": 35,
   "metadata": {},
   "outputs": [
    {
     "name": "stdout",
     "output_type": "stream",
     "text": [
      "Dropped 39 rows with NULL values.\n"
     ]
    }
   ],
   "source": [
    "tot = df.count()\n",
    "#Drop Nulls\n",
    "df = df.na.drop()\n",
    "print(\"Dropped {} rows with NULL values.\".format(tot -df.count()))"
   ]
  },
  {
   "cell_type": "code",
   "execution_count": 36,
   "metadata": {},
   "outputs": [
    {
     "name": "stdout",
     "output_type": "stream",
     "text": [
      "Dataset has 672730 entries\n",
      "root\n",
      " |-- TYPE: string (nullable = true)\n",
      " |-- YEAR: string (nullable = true)\n",
      " |-- MONTH: string (nullable = true)\n",
      " |-- DAY: string (nullable = true)\n",
      " |-- HOUR: string (nullable = true)\n",
      " |-- MINUTE: string (nullable = true)\n",
      " |-- HUNDRED_BLOCK: string (nullable = true)\n",
      " |-- NEIGHBOURHOOD: string (nullable = true)\n",
      " |-- LATITUDE: string (nullable = true)\n",
      " |-- LONGITUDE: string (nullable = true)\n",
      " |-- FACILITY: string (nullable = true)\n",
      " |-- STATION: string (nullable = true)\n",
      " |-- SCHOOL: string (nullable = true)\n",
      "\n"
     ]
    }
   ],
   "source": [
    "#Get the count and column names\n",
    "print('Dataset has {} entries'.format(df.count()))\n",
    "df.printSchema()"
   ]
  },
  {
   "cell_type": "markdown",
   "metadata": {},
   "source": [
    "Let us now see the count of crimes by Neighbourhood : our predictor column"
   ]
  },
  {
   "cell_type": "code",
   "execution_count": 44,
   "metadata": {},
   "outputs": [
    {
     "data": {
      "text/plain": [
       "[Text(0, 0.5, 'NEIGHBOURHOOD'), Text(0.5, 0, 'Crimes Record Count')]"
      ]
     },
     "execution_count": 44,
     "metadata": {},
     "output_type": "execute_result"
    },
    {
     "data": {
      "image/png": "[encoded data removed]",
      "text/plain": [
       "<Figure size 1800x720 with 1 Axes>"
      ]
     },
     "metadata": {},
     "output_type": "display_data"
    }
   ],
   "source": [
    "pdf = df.groupBy('NEIGHBOURHOOD').count().withColumnRenamed('count', 'CRIME_COUNT').toPandas()\n",
    "plt.rcParams[\"figure.figsize\"] = [25, 10]\n",
    "\n",
    "sns.set(style=\"whitegrid\")\n",
    "sns.set_color_codes(\"bright\")\n",
    "\n",
    "graph = sns.barplot(x='CRIME_COUNT', y='NEIGHBOURHOOD', data=pdf)\n",
    "graph.set(ylabel=\"NEIGHBOURHOOD\", xlabel=\"Crimes Record Count\",)"
   ]
  },
  {
   "cell_type": "markdown",
   "metadata": {},
   "source": [
    "### Now let us take a look at crimes from the perspective of time.\n"
   ]
  },
  {
   "cell_type": "code",
   "execution_count": 50,
   "metadata": {},
   "outputs": [
    {
     "data": {
      "text/plain": [
       "[Text(0, 0.5, 'YEAR'), Text(0.5, 0, 'Crimes Record Count')]"
      ]
     },
     "execution_count": 50,
     "metadata": {},
     "output_type": "execute_result"
    },
    {
     "data": {
      "image/png": "[encoded data removed]",
      "text/plain": [
       "<Figure size 1800x720 with 1 Axes>"
      ]
     },
     "metadata": {},
     "output_type": "display_data"
    }
   ],
   "source": [
    "pdf = df.groupBy('YEAR').count().withColumnRenamed('count', 'CRIME_COUNT').toPandas()\n",
    "pdf = pdf.astype({\"YEAR\": int})\n",
    "plt.rcParams[\"figure.figsize\"] = [25, 10]\n",
    "\n",
    "sns.set(style=\"whitegrid\")\n",
    "sns.set_color_codes(\"bright\")\n",
    "\n",
    "graph = sns.lineplot(x='YEAR', y='CRIME_COUNT', data=pdf)\n",
    "graph.set(ylabel=\"YEAR\", xlabel=\"Crimes Record Count\",)"
   ]
  },
  {
   "cell_type": "markdown",
   "metadata": {},
   "source": [
    "# Can we try to predict the location of crime?\n",
    "Given all these columns, we can now attempt to use them as features to train a Logistic Regression model. Its purpose - to predict the location of a crime that has not yet been recorded when provided with all the other necessary features. Here, we shall be making use of SPark ML library to build and train our model."
   ]
  },
  {
   "cell_type": "markdown",
   "metadata": {},
   "source": [
    "Since, the library needs features to be in numeric format, we must try our best to feed it a dataset with such column types. Firstly, we can Cast string type columns to float. "
   ]
  },
  {
   "cell_type": "code",
   "execution_count": 37,
   "metadata": {},
   "outputs": [
    {
     "name": "stdout",
     "output_type": "stream",
     "text": [
      "root\n",
      " |-- TYPE: string (nullable = true)\n",
      " |-- YEAR: integer (nullable = true)\n",
      " |-- MONTH: integer (nullable = true)\n",
      " |-- DAY: integer (nullable = true)\n",
      " |-- HUNDRED_BLOCK: string (nullable = true)\n",
      " |-- NEIGHBOURHOOD: string (nullable = true)\n",
      " |-- HOUR: integer (nullable = true)\n",
      " |-- MINUTE: integer (nullable = true)\n",
      " |-- LATITUDE: float (nullable = true)\n",
      " |-- LONGITUDE: float (nullable = true)\n",
      " |-- FACILITY: string (nullable = true)\n",
      " |-- STATION: string (nullable = true)\n",
      " |-- SCHOOL: string (nullable = true)\n",
      "\n"
     ]
    }
   ],
   "source": [
    "df = df.select(col('TYPE'),\n",
    "               col('YEAR').cast('int'),\n",
    "               col('MONTH').cast('int'),\n",
    "               col('DAY').cast('int'),\n",
    "               col('HUNDRED_BLOCK'),\n",
    "               col('NEIGHBOURHOOD'),\n",
    "               col('HOUR').cast('int'),\n",
    "               col('MINUTE').cast('int'),\n",
    "               col('LATITUDE').cast('float'),\n",
    "               col('LONGITUDE').cast('float'),\n",
    "               col('FACILITY'),\n",
    "               col('STATION'),\n",
    "               col('SCHOOL')               \n",
    "                        )\n",
    "#Don't need street number for Hundred_BLOCK columns\n",
    "df = df.withColumn('HUNDRED_BLOCK', split(df['HUNDRED_BLOCK'], 'X ').getItem(1))\n",
    "df.printSchema()"
   ]
  },
  {
   "cell_type": "code",
   "execution_count": 38,
   "metadata": {},
   "outputs": [
    {
     "data": {
      "text/plain": [
       "['TYPE',\n",
       " 'YEAR',\n",
       " 'MONTH',\n",
       " 'DAY',\n",
       " 'HUNDRED_BLOCK',\n",
       " 'HOUR',\n",
       " 'MINUTE',\n",
       " 'LATITUDE',\n",
       " 'LONGITUDE',\n",
       " 'FACILITY',\n",
       " 'STATION',\n",
       " 'SCHOOL']"
      ]
     },
     "execution_count": 38,
     "metadata": {},
     "output_type": "execute_result"
    }
   ],
   "source": [
    "features = [i for i in df.columns if i != \"NEIGHBOURHOOD\"]\n",
    "features"
   ]
  },
  {
   "cell_type": "markdown",
   "metadata": {},
   "source": [
    "Let's Take a look at the number of discrete values for each feature_column"
   ]
  },
  {
   "cell_type": "code",
   "execution_count": 39,
   "metadata": {},
   "outputs": [
    {
     "data": {
      "text/html": [
       "<div>\n",
       "<style scoped>\n",
       "    .dataframe tbody tr th:only-of-type {\n",
       "        vertical-align: middle;\n",
       "    }\n",
       "\n",
       "    .dataframe tbody tr th {\n",
       "        vertical-align: top;\n",
       "    }\n",
       "\n",
       "    .dataframe thead th {\n",
       "        text-align: right;\n",
       "    }\n",
       "</style>\n",
       "<table border=\"1\" class=\"dataframe\">\n",
       "  <thead>\n",
       "    <tr style=\"text-align: right;\">\n",
       "      <th></th>\n",
       "      <th>Feature</th>\n",
       "      <th>Count</th>\n",
       "    </tr>\n",
       "  </thead>\n",
       "  <tbody>\n",
       "    <tr>\n",
       "      <th>0</th>\n",
       "      <td>TYPE</td>\n",
       "      <td>9</td>\n",
       "    </tr>\n",
       "    <tr>\n",
       "      <th>1</th>\n",
       "      <td>YEAR</td>\n",
       "      <td>16</td>\n",
       "    </tr>\n",
       "    <tr>\n",
       "      <th>2</th>\n",
       "      <td>MONTH</td>\n",
       "      <td>12</td>\n",
       "    </tr>\n",
       "    <tr>\n",
       "      <th>3</th>\n",
       "      <td>DAY</td>\n",
       "      <td>31</td>\n",
       "    </tr>\n",
       "    <tr>\n",
       "      <th>4</th>\n",
       "      <td>HUNDRED_BLOCK</td>\n",
       "      <td>1803</td>\n",
       "    </tr>\n",
       "    <tr>\n",
       "      <th>5</th>\n",
       "      <td>HOUR</td>\n",
       "      <td>24</td>\n",
       "    </tr>\n",
       "    <tr>\n",
       "      <th>6</th>\n",
       "      <td>MINUTE</td>\n",
       "      <td>60</td>\n",
       "    </tr>\n",
       "    <tr>\n",
       "      <th>7</th>\n",
       "      <td>LATITUDE</td>\n",
       "      <td>22463</td>\n",
       "    </tr>\n",
       "    <tr>\n",
       "      <th>8</th>\n",
       "      <td>LONGITUDE</td>\n",
       "      <td>23289</td>\n",
       "    </tr>\n",
       "    <tr>\n",
       "      <th>9</th>\n",
       "      <td>FACILITY</td>\n",
       "      <td>19</td>\n",
       "    </tr>\n",
       "    <tr>\n",
       "      <th>10</th>\n",
       "      <td>STATION</td>\n",
       "      <td>21</td>\n",
       "    </tr>\n",
       "    <tr>\n",
       "      <th>11</th>\n",
       "      <td>SCHOOL</td>\n",
       "      <td>194</td>\n",
       "    </tr>\n",
       "  </tbody>\n",
       "</table>\n",
       "</div>"
      ],
      "text/plain": [
       "          Feature  Count\n",
       "0            TYPE      9\n",
       "1            YEAR     16\n",
       "2           MONTH     12\n",
       "3             DAY     31\n",
       "4   HUNDRED_BLOCK   1803\n",
       "5            HOUR     24\n",
       "6          MINUTE     60\n",
       "7        LATITUDE  22463\n",
       "8       LONGITUDE  23289\n",
       "9        FACILITY     19\n",
       "10        STATION     21\n",
       "11         SCHOOL    194"
      ]
     },
     "execution_count": 39,
     "metadata": {},
     "output_type": "execute_result"
    }
   ],
   "source": [
    "feature_dict = []\n",
    "\n",
    "for f in features:\n",
    "    feature_dict.append({'Feature': f, 'Count': df.select(f).distinct().count()})\n",
    "pd.DataFrame(feature_dict)"
   ]
  },
  {
   "cell_type": "markdown",
   "metadata": {},
   "source": [
    "Now, the Spark ML library only works with numeric data. But we still want to use the stringtype columns. For that, we will need to encode them. To do it let’s use something called the StringIndexer:"
   ]
  },
  {
   "cell_type": "code",
   "execution_count": 40,
   "metadata": {},
   "outputs": [
    {
     "name": "stdout",
     "output_type": "stream",
     "text": [
      "+----+-----+---+--------------------+----+------+---------+-----------+------------+---------------------+----------------+---------------+--------------+\n",
      "|YEAR|MONTH|DAY|       NEIGHBOURHOOD|HOUR|MINUTE| LATITUDE|  LONGITUDE|TYPE_indexed|HUNDRED_BLOCK_indexed|FACILITY_indexed|STATION_indexed|SCHOOL_indexed|\n",
      "+----+-----+---+--------------------+----+------+---------+-----------+------------+---------------------+----------------+---------------+--------------+\n",
      "|2003|    2|  2|              Sunset|   3|    36|49.210945| -123.09387|         5.0|                 34.0|             0.0|            8.0|          27.0|\n",
      "|2003|    2| 17|      Mount Pleasant|   7|    51|49.263584| -123.09694|         5.0|                 31.0|             0.0|            4.0|          26.0|\n",
      "|2003|    2| 17|      Mount Pleasant|   7|    51|49.263584| -123.09694|         5.0|                 31.0|             0.0|            4.0|          25.0|\n",
      "|2003|    3|  8|              Sunset|   0|    15|49.225735| -123.10157|         5.0|                 11.0|             0.0|           17.0|          70.0|\n",
      "|2003|    4| 24|Central Business ...|  18|     0|49.274113| -123.12703|         5.0|                 10.0|             2.0|            0.0|          11.0|\n",
      "|2003|    5| 25|    Hastings-Sunrise|  19|    30|49.269756| -123.04415|         5.0|                174.0|             1.0|           13.0|          95.0|\n",
      "|2003|    6|  1|          Strathcona|  16|     0|49.277733| -123.07846|         5.0|                 85.0|            11.0|            3.0|          22.0|\n",
      "|2003|    6|  1|          Strathcona|  16|     0|49.277733| -123.07846|         5.0|                 85.0|            11.0|            3.0|          23.0|\n",
      "|2003|    9|  7|      Mount Pleasant|  14|     0| 49.26557| -123.10734|         5.0|                 36.0|             0.0|           20.0|          15.0|\n",
      "|2003|   10| 24|Kensington-Cedar ...|   4|     0| 49.26191|-123.056656|         5.0|                 64.0|             1.0|           13.0|          77.0|\n",
      "+----+-----+---+--------------------+----+------+---------+-----------+------------+---------------------+----------------+---------------+--------------+\n",
      "only showing top 10 rows\n",
      "\n"
     ]
    }
   ],
   "source": [
    "for f in features:\n",
    "    if dict(df.dtypes)[f] =='string':\n",
    "        df = StringIndexer(inputCol=f,outputCol=f+'_indexed').setHandleInvalid(\"keep\").fit(df).transform(df)\n",
    "        df = df.drop(f)\n",
    "df.show(10,truncate=True)"
   ]
  },
  {
   "cell_type": "code",
   "execution_count": 41,
   "metadata": {},
   "outputs": [
    {
     "name": "stdout",
     "output_type": "stream",
     "text": [
      "+------------+---------------------+----------------+---------------+--------------+\n",
      "|TYPE_indexed|HUNDRED_BLOCK_indexed|FACILITY_indexed|STATION_indexed|SCHOOL_indexed|\n",
      "+------------+---------------------+----------------+---------------+--------------+\n",
      "|         5.0|                 34.0|             0.0|            8.0|          27.0|\n",
      "|         5.0|                 31.0|             0.0|            4.0|          26.0|\n",
      "|         5.0|                 31.0|             0.0|            4.0|          25.0|\n",
      "|         5.0|                 11.0|             0.0|           17.0|          70.0|\n",
      "|         5.0|                 10.0|             2.0|            0.0|          11.0|\n",
      "|         5.0|                174.0|             1.0|           13.0|          95.0|\n",
      "|         5.0|                 85.0|            11.0|            3.0|          22.0|\n",
      "|         5.0|                 85.0|            11.0|            3.0|          23.0|\n",
      "|         5.0|                 36.0|             0.0|           20.0|          15.0|\n",
      "|         5.0|                 64.0|             1.0|           13.0|          77.0|\n",
      "+------------+---------------------+----------------+---------------+--------------+\n",
      "only showing top 10 rows\n",
      "\n"
     ]
    }
   ],
   "source": [
    "df.select('TYPE_indexed','HUNDRED_BLOCK_indexed','FACILITY_indexed','STATION_indexed','SCHOOL_indexed').show(10)"
   ]
  },
  {
   "cell_type": "markdown",
   "metadata": {},
   "source": [
    "Spark actually works to predict with a column with all the features smashed together into a list-like structure. The VectorAssembler works well to smash these into a feature vector column. We normally call that column features. "
   ]
  },
  {
   "cell_type": "code",
   "execution_count": 42,
   "metadata": {},
   "outputs": [
    {
     "name": "stdout",
     "output_type": "stream",
     "text": [
      "+-------------------------+-----------------------------------------------------------------------------------------+\n",
      "|NEIGHBOURHOOD            |Features                                                                                 |\n",
      "+-------------------------+-----------------------------------------------------------------------------------------+\n",
      "|Sunset                   |[2003.0,2.0,2.0,3.0,36.0,49.21094512939453,-123.0938720703125,5.0,34.0,0.0,8.0,27.0]     |\n",
      "|Mount Pleasant           |[2003.0,2.0,17.0,7.0,51.0,49.26358413696289,-123.09693908691406,5.0,31.0,0.0,4.0,26.0]   |\n",
      "|Mount Pleasant           |[2003.0,2.0,17.0,7.0,51.0,49.26358413696289,-123.09693908691406,5.0,31.0,0.0,4.0,25.0]   |\n",
      "|Sunset                   |[2003.0,3.0,8.0,0.0,15.0,49.22573471069336,-123.10157012939453,5.0,11.0,0.0,17.0,70.0]   |\n",
      "|Central Business District|[2003.0,4.0,24.0,18.0,0.0,49.274112701416016,-123.12702941894531,5.0,10.0,2.0,0.0,11.0]  |\n",
      "|Hastings-Sunrise         |[2003.0,5.0,25.0,19.0,30.0,49.26975631713867,-123.04415130615234,5.0,174.0,1.0,13.0,95.0]|\n",
      "|Strathcona               |[2003.0,6.0,1.0,16.0,0.0,49.277732849121094,-123.07846069335938,5.0,85.0,11.0,3.0,22.0]  |\n",
      "|Strathcona               |[2003.0,6.0,1.0,16.0,0.0,49.277732849121094,-123.07846069335938,5.0,85.0,11.0,3.0,23.0]  |\n",
      "|Mount Pleasant           |[2003.0,9.0,7.0,14.0,0.0,49.26557159423828,-123.10733795166016,5.0,36.0,0.0,20.0,15.0]   |\n",
      "|Kensington-Cedar Cottage |[2003.0,10.0,24.0,4.0,0.0,49.26190948486328,-123.05665588378906,5.0,64.0,1.0,13.0,77.0]  |\n",
      "+-------------------------+-----------------------------------------------------------------------------------------+\n",
      "only showing top 10 rows\n",
      "\n"
     ]
    }
   ],
   "source": [
    "features = [i for i in df.columns if i != \"NEIGHBOURHOOD\"]\n",
    "assembler = VectorAssembler(inputCols=features, outputCol='Features')\n",
    "vectorized_df = assembler.transform(df)\n",
    "vectorized_df = vectorized_df.drop(*features)\n",
    "vectorized_df.show(10,truncate=False)"
   ]
  },
  {
   "cell_type": "markdown",
   "metadata": {},
   "source": [
    "#### Let's do the same to the label column as well"
   ]
  },
  {
   "cell_type": "code",
   "execution_count": 43,
   "metadata": {},
   "outputs": [
    {
     "name": "stdout",
     "output_type": "stream",
     "text": [
      "+-----------------------------------------------------------------------------------------+-------------+\n",
      "|Features                                                                                 |Neighbourhood|\n",
      "+-----------------------------------------------------------------------------------------+-------------+\n",
      "|[2003.0,2.0,2.0,3.0,36.0,49.21094512939453,-123.0938720703125,5.0,34.0,0.0,8.0,27.0]     |9.0          |\n",
      "|[2003.0,2.0,17.0,7.0,51.0,49.26358413696289,-123.09693908691406,5.0,31.0,0.0,4.0,26.0]   |3.0          |\n",
      "|[2003.0,2.0,17.0,7.0,51.0,49.26358413696289,-123.09693908691406,5.0,31.0,0.0,4.0,25.0]   |3.0          |\n",
      "|[2003.0,3.0,8.0,0.0,15.0,49.22573471069336,-123.10157012939453,5.0,11.0,0.0,17.0,70.0]   |9.0          |\n",
      "|[2003.0,4.0,24.0,18.0,0.0,49.274112701416016,-123.12702941894531,5.0,10.0,2.0,0.0,11.0]  |0.0          |\n",
      "|[2003.0,5.0,25.0,19.0,30.0,49.26975631713867,-123.04415130615234,5.0,174.0,1.0,13.0,95.0]|10.0         |\n",
      "|[2003.0,6.0,1.0,16.0,0.0,49.277732849121094,-123.07846069335938,5.0,85.0,11.0,3.0,22.0]  |8.0          |\n",
      "|[2003.0,6.0,1.0,16.0,0.0,49.277732849121094,-123.07846069335938,5.0,85.0,11.0,3.0,23.0]  |8.0          |\n",
      "|[2003.0,9.0,7.0,14.0,0.0,49.26557159423828,-123.10733795166016,5.0,36.0,0.0,20.0,15.0]   |3.0          |\n",
      "|[2003.0,10.0,24.0,4.0,0.0,49.26190948486328,-123.05665588378906,5.0,64.0,1.0,13.0,77.0]  |6.0          |\n",
      "+-----------------------------------------------------------------------------------------+-------------+\n",
      "only showing top 10 rows\n",
      "\n"
     ]
    }
   ],
   "source": [
    "indexed_df = StringIndexer(inputCol='NEIGHBOURHOOD', outputCol='Neighbourhood').setHandleInvalid(\"keep\").fit(vectorized_df).transform(vectorized_df)\n",
    "#Fixed Bug\n",
    "sqlContext.sql(\"set spark.sql.caseSensitive=true\")\n",
    "\n",
    "indexed_df = indexed_df.drop('NEIGHBOURHOOD')\n",
    "indexed_df.show(10,truncate=False)"
   ]
  },
  {
   "cell_type": "markdown",
   "metadata": {},
   "source": [
    "Before modeling let’s do the usual splitting between training and testing:\n"
   ]
  },
  {
   "cell_type": "code",
   "execution_count": 44,
   "metadata": {},
   "outputs": [],
   "source": [
    "(training_data, test_data) = indexed_df.randomSplit([0.8,0.2])"
   ]
  },
  {
   "cell_type": "markdown",
   "metadata": {},
   "source": [
    "### Now we shall call upon the Logistic regression object from the pyspark.ml.classification class"
   ]
  },
  {
   "cell_type": "code",
   "execution_count": 45,
   "metadata": {},
   "outputs": [],
   "source": [
    "logisticRegression = LogisticRegression(labelCol='Neighbourhood',\n",
    "                                        featuresCol='Features',\n",
    "                                        maxIter=10,\n",
    "                                        family='multinomial').setThreshold(None)\n",
    "model = logisticRegression.fit(training_data)"
   ]
  },
  {
   "cell_type": "code",
   "execution_count": 46,
   "metadata": {},
   "outputs": [
    {
     "name": "stdout",
     "output_type": "stream",
     "text": [
      "The Accuracy of the model is 23.94753232748603 %\n"
     ]
    }
   ],
   "source": [
    "print(\"The Accuracy of the model is {} %\".format(model.summary.accuracy*100))"
   ]
  },
  {
   "cell_type": "markdown",
   "metadata": {},
   "source": [
    "Here is the co-efficient matrix"
   ]
  },
  {
   "cell_type": "code",
   "execution_count": 162,
   "metadata": {},
   "outputs": [
    {
     "data": {
      "text/plain": [
       "DenseMatrix(25, 12, [0.0, -0.0, -0.0, -0.0, 0.0, 0.0017, -0.0012, -0.0, ..., -0.0, -0.0347, 0.0304, -0.0, -0.0, -0.0, -0.0, -0.0], 1)"
      ]
     },
     "execution_count": 162,
     "metadata": {},
     "output_type": "execute_result"
    }
   ],
   "source": [
    "model.coefficientMatrix"
   ]
  },
  {
   "cell_type": "code",
   "execution_count": 158,
   "metadata": {},
   "outputs": [
    {
     "data": {
      "text/plain": [
       "<matplotlib.axes._subplots.AxesSubplot at 0x7f280d57cf98>"
      ]
     },
     "execution_count": 158,
     "metadata": {},
     "output_type": "execute_result"
    },
    {
     "data": {
      "image/png": "[encoded data removed]",
      "text/plain": [
       "<Figure size 1800x720 with 1 Axes>"
      ]
     },
     "metadata": {},
     "output_type": "display_data"
    }
   ],
   "source": [
    "sns.barplot(y=model.summary.objectiveHistory, x=list(range(len(model.summary.objectiveHistory))))\n"
   ]
  },
  {
   "cell_type": "code",
   "execution_count": 47,
   "metadata": {},
   "outputs": [
    {
     "name": "stdout",
     "output_type": "stream",
     "text": [
      "Test Accuracy =  0.24086005560704357\n"
     ]
    }
   ],
   "source": [
    "predictions = model.transform(test_data)\n",
    "evaluator = MulticlassClassificationEvaluator(\n",
    "    labelCol='Neighbourhood', \n",
    "    predictionCol='prediction', \n",
    "    metricName='accuracy')\n",
    "accuracy = evaluator.evaluate(predictions)\n",
    "print('Test Accuracy = ', accuracy)"
   ]
  },
  {
   "cell_type": "markdown",
   "metadata": {},
   "source": [
    "### Now let us make use of the model to perform actual predictions\n",
    "We shall make use of our own self-generated dataset to do so. We know the model works with ~25% accuracy on previously unseen data. Let us make use of a new dataset : but this time we shall rewrite the \"YEAR\" column from values between 2019-2025. The purpose is to predict the neighbourhood column using our model. In theory, this should allow an interested party to view predictions for crime rates for this particular time period."
   ]
  },
  {
   "cell_type": "code",
   "execution_count": 48,
   "metadata": {},
   "outputs": [
    {
     "name": "stdout",
     "output_type": "stream",
     "text": [
      "+-----+---+----+------+------------------+-------------------+------------+---------------------+----------------+---------------+--------------+----+\n",
      "|MONTH|DAY|HOUR|MINUTE|          LATITUDE|          LONGITUDE|TYPE_indexed|HUNDRED_BLOCK_indexed|FACILITY_indexed|STATION_indexed|SCHOOL_indexed|YEAR|\n",
      "+-----+---+----+------+------------------+-------------------+------------+---------------------+----------------+---------------+--------------+----+\n",
      "|    2|  2|   3|    36| 49.21094512939453| -123.0938720703125|         5.0|                 34.0|             0.0|            8.0|          27.0|2024|\n",
      "|    2| 17|   7|    51| 49.26358413696289|-123.09693908691406|         5.0|                 31.0|             0.0|            4.0|          26.0|2023|\n",
      "|    2| 17|   7|    51| 49.26358413696289|-123.09693908691406|         5.0|                 31.0|             0.0|            4.0|          25.0|2025|\n",
      "|    3|  8|   0|    15| 49.22573471069336|-123.10157012939453|         5.0|                 11.0|             0.0|           17.0|          70.0|2021|\n",
      "|    4| 24|  18|     0|49.274112701416016|-123.12702941894531|         5.0|                 10.0|             2.0|            0.0|          11.0|2025|\n",
      "|    5| 25|  19|    30| 49.26975631713867|-123.04415130615234|         5.0|                174.0|             1.0|           13.0|          95.0|2024|\n",
      "|    6|  1|  16|     0|49.277732849121094|-123.07846069335938|         5.0|                 85.0|            11.0|            3.0|          22.0|2025|\n",
      "|    6|  1|  16|     0|49.277732849121094|-123.07846069335938|         5.0|                 85.0|            11.0|            3.0|          23.0|2021|\n",
      "|    9|  7|  14|     0| 49.26557159423828|-123.10733795166016|         5.0|                 36.0|             0.0|           20.0|          15.0|2021|\n",
      "|   10| 24|   4|     0| 49.26190948486328|-123.05665588378906|         5.0|                 64.0|             1.0|           13.0|          77.0|2021|\n",
      "+-----+---+----+------+------------------+-------------------+------------+---------------------+----------------+---------------+--------------+----+\n",
      "only showing top 10 rows\n",
      "\n"
     ]
    }
   ],
   "source": [
    "df = df.drop('NEIGHBOURHOOD','YEAR')\n",
    "pdf = df.toPandas()\n",
    "pdf['YEAR'] = np.random.randint(2019,2026, size=len(pdf))\n",
    "df = spark.createDataFrame(pdf)\n",
    "df.show(10)"
   ]
  },
  {
   "cell_type": "code",
   "execution_count": 49,
   "metadata": {},
   "outputs": [
    {
     "name": "stdout",
     "output_type": "stream",
     "text": [
      "root\n",
      " |-- TYPE_indexed: float (nullable = true)\n",
      " |-- YEAR: float (nullable = true)\n",
      " |-- MONTH: float (nullable = true)\n",
      " |-- DAY: float (nullable = true)\n",
      " |-- HUNDRED_BLOCK_indexed: double (nullable = true)\n",
      " |-- HOUR: float (nullable = true)\n",
      " |-- MINUTE: float (nullable = true)\n",
      " |-- LATITUDE: float (nullable = true)\n",
      " |-- LONGITUDE: float (nullable = true)\n",
      " |-- FACILITY_indexed: float (nullable = true)\n",
      " |-- STATION_indexed: float (nullable = true)\n",
      " |-- SCHOOL_indexed: float (nullable = true)\n",
      "\n"
     ]
    }
   ],
   "source": [
    "df = df.select(col('TYPE_indexed').cast('float'),\n",
    "               col('YEAR').cast('float'),\n",
    "               col('MONTH').cast('float'),\n",
    "               col('DAY').cast('float'),\n",
    "               col('HUNDRED_BLOCK_indexed'),\n",
    "               col('HOUR').cast('float'),\n",
    "               col('MINUTE').cast('float'),\n",
    "               col('LATITUDE').cast('float'),\n",
    "               col('LONGITUDE').cast('float'),\n",
    "               col('FACILITY_indexed').cast('float'),\n",
    "               col('STATION_indexed').cast('float'),\n",
    "               col('SCHOOL_indexed').cast('float'))               \n",
    "df.printSchema()"
   ]
  },
  {
   "cell_type": "code",
   "execution_count": 50,
   "metadata": {},
   "outputs": [
    {
     "name": "stdout",
     "output_type": "stream",
     "text": [
      "+-----------------------------------------------------------------------------------------+\n",
      "|Features                                                                                 |\n",
      "+-----------------------------------------------------------------------------------------+\n",
      "|[2024.0,2.0,2.0,3.0,36.0,49.21094512939453,-123.0938720703125,5.0,34.0,0.0,8.0,27.0]     |\n",
      "|[2023.0,2.0,17.0,7.0,51.0,49.26358413696289,-123.09693908691406,5.0,31.0,0.0,4.0,26.0]   |\n",
      "|[2025.0,2.0,17.0,7.0,51.0,49.26358413696289,-123.09693908691406,5.0,31.0,0.0,4.0,25.0]   |\n",
      "|[2021.0,3.0,8.0,0.0,15.0,49.22573471069336,-123.10157012939453,5.0,11.0,0.0,17.0,70.0]   |\n",
      "|[2025.0,4.0,24.0,18.0,0.0,49.274112701416016,-123.12702941894531,5.0,10.0,2.0,0.0,11.0]  |\n",
      "|[2024.0,5.0,25.0,19.0,30.0,49.26975631713867,-123.04415130615234,5.0,174.0,1.0,13.0,95.0]|\n",
      "|[2025.0,6.0,1.0,16.0,0.0,49.277732849121094,-123.07846069335938,5.0,85.0,11.0,3.0,22.0]  |\n",
      "|[2021.0,6.0,1.0,16.0,0.0,49.277732849121094,-123.07846069335938,5.0,85.0,11.0,3.0,23.0]  |\n",
      "|[2021.0,9.0,7.0,14.0,0.0,49.26557159423828,-123.10733795166016,5.0,36.0,0.0,20.0,15.0]   |\n",
      "|[2021.0,10.0,24.0,4.0,0.0,49.26190948486328,-123.05665588378906,5.0,64.0,1.0,13.0,77.0]  |\n",
      "+-----------------------------------------------------------------------------------------+\n",
      "only showing top 10 rows\n",
      "\n"
     ]
    }
   ],
   "source": [
    "vectorized_df = assembler.transform(df)\n",
    "vectorized_df = vectorized_df.drop(*features)\n",
    "vectorized_df.show(10,truncate=False)"
   ]
  },
  {
   "cell_type": "code",
   "execution_count": 51,
   "metadata": {},
   "outputs": [
    {
     "name": "stdout",
     "output_type": "stream",
     "text": [
      "+--------------------+--------------------+--------------------+----------+\n",
      "|            Features|       rawPrediction|         probability|prediction|\n",
      "+--------------------+--------------------+--------------------+----------+\n",
      "|[2024.0,2.0,2.0,3...|[2.47002962182498...|[0.23893958839863...|       0.0|\n",
      "|[2023.0,2.0,17.0,...|[2.47012329216333...|[0.23894188922104...|       0.0|\n",
      "|[2025.0,2.0,17.0,...|[2.47012618306228...|[0.23894195436848...|       0.0|\n",
      "|[2021.0,3.0,8.0,0...|[2.47004419069847...|[0.23893715363051...|       0.0|\n",
      "|[2025.0,4.0,24.0,...|[2.47018414076369...|[0.23894253073896...|       0.0|\n",
      "|[2024.0,5.0,25.0,...|[2.47005227048894...|[0.23893955263451...|       0.0|\n",
      "|[2025.0,6.0,1.0,1...|[2.47014299503140...|[0.23894572716703...|       0.0|\n",
      "|[2021.0,6.0,1.0,1...|[2.47013739032970...|[0.23894562898107...|       0.0|\n",
      "|[2021.0,9.0,7.0,1...|[2.47012307703566...|[0.23893935013256...|       0.0|\n",
      "|[2021.0,10.0,24.0...|[2.47005187490263...|[0.23893933817128...|       0.0|\n",
      "|[2020.0,10.0,24.0...|[2.47005257034308...|[0.23893968127659...|       0.0|\n",
      "|[2024.0,10.0,22.0...|[2.47005992773589...|[0.23894014039521...|       0.0|\n",
      "|[2019.0,10.0,22.0...|[2.47005519557085...|[0.23894041742384...|       0.0|\n",
      "|[2022.0,10.0,25.0...|[2.47027896807773...|[0.23894367782852...|       0.0|\n",
      "|[2019.0,10.0,24.0...|[2.47014306656244...|[0.23894572466621...|       0.0|\n",
      "|[2024.0,10.0,24.0...|[2.47014967397310...|[0.23894577514946...|       0.0|\n",
      "|[2022.0,1.0,11.0,...|[2.47014598739472...|[0.23894319554026...|       0.0|\n",
      "|[2024.0,2.0,21.0,...|[2.47011568777229...|[0.23893587191978...|       0.0|\n",
      "|[2019.0,2.0,28.0,...|[2.47019106591463...|[0.23894347527517...|       0.0|\n",
      "|[2025.0,3.0,11.0,...|[2.47006136772489...|[0.23893812190789...|       0.0|\n",
      "+--------------------+--------------------+--------------------+----------+\n",
      "only showing top 20 rows\n",
      "\n"
     ]
    }
   ],
   "source": [
    "predictions = model.transform(vectorized_df)\n",
    "predictions.show()"
   ]
  },
  {
   "cell_type": "markdown",
   "metadata": {},
   "source": [
    "#### Uh Oh! looks like our model seems to be only predicting one class. let's verify if this is so."
   ]
  },
  {
   "cell_type": "code",
   "execution_count": 52,
   "metadata": {},
   "outputs": [
    {
     "data": {
      "text/plain": [
       "[Row(prediction=0.0)]"
      ]
     },
     "execution_count": 52,
     "metadata": {},
     "output_type": "execute_result"
    }
   ],
   "source": [
    "predictions.select('prediction').distinct().collect()"
   ]
  },
  {
   "cell_type": "markdown",
   "metadata": {},
   "source": [
    "Yes, there is only one predicted class here and that is 0.0<br> Now we shall attempt to see why that is. First let us consult the dataset with which this model was trained and understand the count of classes in proportion"
   ]
  },
  {
   "cell_type": "code",
   "execution_count": 53,
   "metadata": {},
   "outputs": [
    {
     "name": "stdout",
     "output_type": "stream",
     "text": [
      "+-------------+------+\n",
      "|Neighbourhood| count|\n",
      "+-------------+------+\n",
      "|          8.0| 22440|\n",
      "|          0.0|128803|\n",
      "|          7.0| 24784|\n",
      "|         18.0|  6984|\n",
      "|          1.0| 44620|\n",
      "|          4.0| 35085|\n",
      "|         23.0|   486|\n",
      "|         11.0| 14316|\n",
      "|         21.0|  5286|\n",
      "|         14.0| 10826|\n",
      "|         22.0|  3854|\n",
      "|          3.0| 36389|\n",
      "|         19.0|  6747|\n",
      "|          2.0| 42127|\n",
      "|         17.0|  7264|\n",
      "|         10.0| 20513|\n",
      "|         13.0| 12457|\n",
      "|          6.0| 26420|\n",
      "|         20.0|  6575|\n",
      "|          5.0| 32541|\n",
      "+-------------+------+\n",
      "only showing top 20 rows\n",
      "\n"
     ]
    }
   ],
   "source": [
    "training_data.groupBy('Neighbourhood').count().show()"
   ]
  },
  {
   "cell_type": "code",
   "execution_count": 54,
   "metadata": {},
   "outputs": [
    {
     "data": {
      "text/plain": [
       "24"
      ]
     },
     "execution_count": 54,
     "metadata": {},
     "output_type": "execute_result"
    }
   ],
   "source": [
    "training_data.select(\"Neighbourhood\").distinct().count()"
   ]
  },
  {
   "cell_type": "markdown",
   "metadata": {},
   "source": [
    "It is apparent that the 0.0 class far outweighs the other class being almost 10 times more prevalent than the next class. If you head over to the bar graph above, you can see that the count of crime in the Neighbourhood \"Central Business District\" (which has likely been mapped to 0.0) outweighs the other Neighbourhoods by a considerable amount. The observation here is that the model has become biased towards this neighbourhood and now predicts that any crime that ever occurs will only occur in this Neighbourhood"
   ]
  },
  {
   "cell_type": "markdown",
   "metadata": {},
   "source": [
    "### We will assign class weights to deal with imbalanced data.\n",
    "For a Binomial Regression problem, the SMOTE technique allows us to perform an oversampling of the dominant class and/or undersampling the minority classes in order to get a more balanced dataset. However, it has been found to cause overlapping problems when used in higher dimensional datasets. Thus, we shall use the method of assigning weights to classes since this is a Multinomial Regression problem."
   ]
  },
  {
   "cell_type": "markdown",
   "metadata": {},
   "source": [
    "First we must calculate a constant - balancing ratio. This is the percentage of the dominant class relative to the other classes. The next step is to generate a column with the class weights."
   ]
  },
  {
   "cell_type": "code",
   "execution_count": 55,
   "metadata": {},
   "outputs": [
    {
     "name": "stdout",
     "output_type": "stream",
     "text": [
      "+--------------------+-------------+-------------------+\n",
      "|            Features|Neighbourhood|       classWeights|\n",
      "+--------------------+-------------+-------------------+\n",
      "|[2003.0,1.0,1.0,0...|         13.0|0.23947532327486032|\n",
      "|[2003.0,1.0,1.0,0...|         13.0|0.23947532327486032|\n",
      "|[2003.0,1.0,1.0,0...|         14.0|0.23947532327486032|\n",
      "|[2003.0,1.0,1.0,0...|          0.0| 0.7605246767251397|\n",
      "|[2003.0,1.0,1.0,0...|          0.0| 0.7605246767251397|\n",
      "|[2003.0,1.0,1.0,0...|         14.0|0.23947532327486032|\n",
      "|[2003.0,1.0,1.0,0...|         14.0|0.23947532327486032|\n",
      "|[2003.0,1.0,1.0,0...|         16.0|0.23947532327486032|\n",
      "|[2003.0,1.0,1.0,0...|         16.0|0.23947532327486032|\n",
      "|[2003.0,1.0,1.0,0...|          0.0| 0.7605246767251397|\n",
      "+--------------------+-------------+-------------------+\n",
      "only showing top 10 rows\n",
      "\n"
     ]
    }
   ],
   "source": [
    "BalancingRatio = training_data.groupby('Neighbourhood').count().select('count')\\\n",
    "                                    .rdd.max().asDict()['count']/training_data.count()\n",
    "weighted_df = training_data.withColumn(\"classWeights\", \\\n",
    "                    when(training_data.Neighbourhood == 0.0,1-BalancingRatio).otherwise(BalancingRatio))\n",
    "weighted_df.show(10)"
   ]
  },
  {
   "cell_type": "markdown",
   "metadata": {},
   "source": [
    "### Nowe we shall train another model, this time with weights"
   ]
  },
  {
   "cell_type": "code",
   "execution_count": 56,
   "metadata": {},
   "outputs": [],
   "source": [
    "logisticRegression = LogisticRegression(labelCol='Neighbourhood',\n",
    "                                        featuresCol='Features',\n",
    "                                        maxIter=10,\n",
    "                                        family='multinomial').setWeightCol(\"classWeights\")\n",
    "new_model = logisticRegression.fit(weighted_df)"
   ]
  },
  {
   "cell_type": "code",
   "execution_count": 1,
   "metadata": {},
   "outputs": [
    {
     "name": "stdout",
     "output_type": "stream",
     "text": [
      "+--------------------+--------------------+--------------------+----------+\n",
      "|            Features|       rawPrediction|         probability|prediction|\n",
      "+--------------------+--------------------+--------------------+----------+\n",
      "|[2024.0,2.0,2.0,3...|[3.53868492155616...|[0.50004309697517...|      22.0|\n",
      "|[2023.0,2.0,17.0,...|[3.53876488205683...|[0.50004828483171...|       1.0|\n",
      "|[2025.0,2.0,17.0,...|[3.53876689973010...|[0.50004842094574...|       8.0|\n",
      "|[2021.0,3.0,8.0,0...|[3.53869151186966...|[0.50003902410523...|      20.0|\n",
      "|[2025.0,4.0,24.0,...|[3.53881693800611...|[0.50004967881024...|      17.0|\n",
      "|[2024.0,5.0,25.0,...|[3.53869602487143...|[0.50004384360311...|       9.0|\n",
      "|[2025.0,6.0,1.0,1...|[3.53878546548257...|[0.50005472759337...|      23.0|\n",
      "|[2021.0,6.0,1.0,1...|[3.53878168915184...|[0.50005452224542...|      19.0|\n",
      "|[2021.0,9.0,7.0,1...|[3.53876273942647...|[0.50004456302378...|      11.0|\n",
      "|[2021.0,10.0,24.0...|[3.53869790607815...|[0.50004349079627...|       0.0|\n",
      "|[2020.0,10.0,24.0...|[3.53869914820820...|[0.50004399567033...|       3.0|\n",
      "|[2024.0,10.0,22.0...|[3.53870525852981...|[0.50004483572640...|      16.0|\n",
      "|[2019.0,10.0,22.0...|[3.53870298334493...|[0.50004520212745...|      14.0|\n",
      "|[2022.0,10.0,25.0...|[3.53889830597149...|[0.50005002296276...|      17.0|\n",
      "|[2019.0,10.0,24.0...|[3.53878699831563...|[0.50005479843839...|      18.0|\n",
      "|[2024.0,10.0,24.0...|[3.53879113594349...|[0.50005490464024...|       8.0|\n",
      "|[2022.0,1.0,11.0,...|[3.53878709435071...|[0.50005044844885...|       3.0|\n",
      "|[2024.0,2.0,21.0,...|[3.53874350811457...|[0.50003536960066...|      19.0|\n",
      "|[2019.0,2.0,28.0,...|[3.53882664571974...|[0.50005130852193...|       3.0|\n",
      "|[2025.0,3.0,11.0,...|[3.53870639578373...|[0.50004014380478...|      14.0|\n",
      "+--------------------+--------------------+--------------------+----------+\n",
      "only showing top 20 rows\n",
      "\n"
     ]
    }
   ],
   "source": [
    "predictions = new_model.transform(vectorized_df)\n",
    "predictions.show()"
   ]
  },
  {
   "cell_type": "markdown",
   "metadata": {},
   "source": [
    "#### We can see the weighted approach has worked. Now the model doesn't predict only the dominant class."
   ]
  },
  {
   "cell_type": "markdown",
   "metadata": {},
   "source": [
    "Now we shall apply the reverse mapping to obtain the Neighbourhood name and then plot it on the Tableau Map. Since we have a Neighbourhood Shape file (obtained from the Open Data Catalogue), we can plot a visualization with Tableau that shows the Crime count by Neighbourhood as predicted by our model. \n",
    "The Tableau public dashboard can be found at <a href=\"https://public.tableau.com/shared/M2N8ZMHGK?:display_count=y&:origin=viz_share_link\">https://public.tableau.com/shared/M2N8ZMHGK?:display_count=y&:origin=viz_share_link</a><br>\n",
    "<img src=\"../Visualisation/Raw/Future_Crime.png\">"
   ]
  },
  {
   "cell_type": "code",
   "execution_count": null,
   "metadata": {},
   "outputs": [],
   "source": []
  }
 ],
 "metadata": {
  "kernelspec": {
   "display_name": "Python 3",
   "language": "python",
   "name": "python3"
  },
  "language_info": {
   "codemirror_mode": {
    "name": "ipython",
    "version": 3
   },
   "file_extension": ".py",
   "mimetype": "text/x-python",
   "name": "python",
   "nbconvert_exporter": "python",
   "pygments_lexer": "ipython3",
   "version": "3.7.1"
  }
 },
 "nbformat": 4,
 "nbformat_minor": 2
}
