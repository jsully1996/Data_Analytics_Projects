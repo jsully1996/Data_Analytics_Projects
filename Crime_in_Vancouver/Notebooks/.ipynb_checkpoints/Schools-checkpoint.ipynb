{
 "cells": [
  {
   "cell_type": "markdown",
   "metadata": {},
   "source": [
    "# Crime near Schools\n",
    "Perhaps one of the most important analysis from a safety point of view is to examine the intensity of crimes occuring near schools. In this exercise, we shall attemot to perform multiple visualizations to understand this.\n",
    "First we import some dependencies, start a SparkSession and read in the data."
   ]
  },
  {
   "cell_type": "code",
   "execution_count": 9,
   "metadata": {},
   "outputs": [],
   "source": [
    "import pandas as pd\n",
    "import reverse_geocoder as rg\n",
    "from pyspark.sql import SparkSession\n",
    "from pyspark.sql.functions import *\n",
    "from pyspark.sql.types import *\n",
    "from geocodio import GeocodioClient\n",
    "API_KEY = 'dd80c07f04d3066730c74d703707660d407fdcf'\n",
    "import geopy\n",
    "from geopy.geocoders import Nominatim\n",
    "from geopy.extra.rate_limiter import RateLimiter"
   ]
  },
  {
   "cell_type": "code",
   "execution_count": 6,
   "metadata": {},
   "outputs": [],
   "source": [
    "#Create Spark Session and context\n",
    "spark = SparkSession\\\n",
    "    .builder\\\n",
    "    .appName(\"example code\")\\\n",
    "    .config(\"spark.driver.extraClassPath\",\"/home/jim/spark-2.4.0-bin-hadoop2.7/jars/mysql-connector-java-5.1.49.jar\")\\\n",
    "    .getOrCreate()\n",
    "spark.sparkContext.setLogLevel('WARN')\n",
    "sc = spark.sparkContext"
   ]
  },
  {
   "cell_type": "markdown",
   "metadata": {},
   "source": [
    "read in the Data"
   ]
  },
  {
   "cell_type": "code",
   "execution_count": 7,
   "metadata": {},
   "outputs": [
    {
     "name": "stdout",
     "output_type": "stream",
     "text": [
      "+------------------------------------+----------------+-----------------+-------------------+------------------+\n",
      "|SCHOOL_NAME                         |LATITUDE        |LONGITUDE        |ADDRESS            |SCHOOL_CATEGORY   |\n",
      "+------------------------------------+----------------+-----------------+-------------------+------------------+\n",
      "|Admiral Seymour Elementary          |49.27859427     |-123.0803143     |1130 Keefer St     |Public School     |\n",
      "|Admiral Seymour StrongStart Centre  |49.27859427     |-123.0803143     |1130 Keefer St     |StrongStart BC    |\n",
      "|Alexander Academy                   |49.2850006001823|-123.114009854193|688 W Hastings St  |Independent School|\n",
      "|Anchor Point Montessori             |49.277061848292 |-123.130918922266|1351 Hornby St     |Independent School|\n",
      "|BC Children's Adol. Psych. Unit     |49.239630962    |-123.12579096    |5025 Willow St     |Public School     |\n",
      "|BC Childrens Hosp School Program    |49.239630962    |-123.12579096    |5025 Willow St     |Public School     |\n",
      "|BCCH Eating Disorders School Program|49.239630962    |-123.12579096    |5025 Willow St     |Public School     |\n",
      "|Bayview Community Elementary        |49.266487007    |-123.18233379    |2251 Collingwood St|Public School     |\n",
      "|Blessed Sacrament School            |49.2583379084058|-123.119390910334|3020 Heather St    |Independent School|\n",
      "|Britannia Community Elementary      |49.2745120095296|-123.071378795422|1110 Cotton Drive  |Public School     |\n",
      "+------------------------------------+----------------+-----------------+-------------------+------------------+\n",
      "only showing top 10 rows\n",
      "\n",
      "The Schools dataset has 194 rows\n"
     ]
    }
   ],
   "source": [
    "schools = spark.read.format(\"csv\").option(\"header\", \"true\").load(\"../Data/schools.csv\")\n",
    "schools.show(10,truncate=False)\n",
    "print('The Schools dataset has {} rows'.format(schools.count()))"
   ]
  },
  {
   "cell_type": "markdown",
   "metadata": {},
   "source": [
    "#### We can also put our shapefile to use for this exercise. But for that we require a 'Neighbourhood' column in our schools dataset"
   ]
  },
  {
   "cell_type": "code",
   "execution_count": 13,
   "metadata": {},
   "outputs": [
    {
     "name": "stdout",
     "output_type": "stream",
     "text": [
      "+-------------------------------------+----------------+-----------------+-------------------+------------------+\n",
      "|SCHOOL_NAME                          |LATITUDE        |LONGITUDE        |ADDRESS            |NEIGHBOURHOOD     |\n",
      "+-------------------------------------+----------------+-----------------+-------------------+------------------+\n",
      "|Admiral Seymour Elementary           |49.27859427     |-123.0803143     |1130 Keefer St     |Strathcona        |\n",
      "|Admiral Seymour StrongStart Centre   |49.27859427     |-123.0803143     |1130 Keefer St     |Strathcona        |\n",
      "|Alexander Academy                    |49.2850006001823|-123.114009854193|688 W Hastings St  |Downtown          |\n",
      "|Anchor Point Montessori              |49.277061848292 |-123.130918922266|1351 Hornby St     |Downtown          |\n",
      "|BC Children's Adol. Psych. Unit      |49.239630962    |-123.12579096    |5025 Willow St     |South Cambie      |\n",
      "|BC Childrens Hosp School Program     |49.239630962    |-123.12579096    |5025 Willow St     |South Cambie      |\n",
      "|BCCH Eating Disorders School Program |49.239630962    |-123.12579096    |5025 Willow St     |South Cambie      |\n",
      "|Bayview Community Elementary         |49.266487007    |-123.18233379    |2251 Collingwood St|Kitsilano         |\n",
      "|Blessed Sacrament School             |49.2583379084058|-123.119390910334|3020 Heather St    |Fairview          |\n",
      "|Britannia Community Elementary       |49.2745120095296|-123.071378795422|1110 Cotton Drive  |Grandview-Woodland|\n",
      "|Britannia Community Secondary        |49.2752359917843|-123.07192309841 |1001 Cotton Drive  |Grandview-Woodland|\n",
      "|Canuck Place School Program          |49.2516695267534|-123.143062399514|1690 Matthews Av   |Shaughnessy       |\n",
      "|Captain James Cook Elementary        |49.2193808      |-123.03582905    |3340 E 54th Av     |Killarney         |\n",
      "|Captain James Cook StrongStart Centre|49.2193808      |-123.03582905    |3340 E 54th Av     |Killarney         |\n",
      "|Carnarvon Community Elementary       |49.2565874222733|-123.173557238565|3400 Balaclava St  |Arbutus-Ridge     |\n",
      "+-------------------------------------+----------------+-----------------+-------------------+------------------+\n",
      "only showing top 15 rows\n",
      "\n"
     ]
    }
   ],
   "source": [
    "#Won't be needing SCHOOL_CATEGORY\n",
    "schools = schools.select('SCHOOL_NAME','LATITUDE','LONGITUDE','ADDRESS')\n",
    "latitude_list = schools.select(\"LATITUDE\").rdd.flatMap(lambda x: x).collect()\n",
    "longitude_list = schools.select(\"LONGITUDE\").rdd.flatMap(lambda x: x).collect()\n",
    "neighbourhood_list = []\n",
    "locator = Nominatim(user_agent=\"myGeocoder\")\n",
    "\n",
    "\n",
    "for i,j in zip(latitude_list,longitude_list):\n",
    "    location = locator.reverse([i,j])\n",
    "    neighbourhood_list.append(location.raw['address']['city_district'])\n",
    "\n",
    "temp_df = schools.toPandas()\n",
    "temp_df['NEIGHBOURHOOD'] = neighbourhood_list\n",
    "schools = spark.createDataFrame(temp_df)\n",
    "schools.show(15,truncate=False) "
   ]
  },
  {
   "cell_type": "markdown",
   "metadata": {},
   "source": [
    "## Now we will load the dataset of crimes that is our main source of crime data"
   ]
  },
  {
   "cell_type": "code",
   "execution_count": 15,
   "metadata": {},
   "outputs": [
    {
     "name": "stdout",
     "output_type": "stream",
     "text": [
      "+--------------------+--------------------+------------------+-------------------+\n",
      "|                TYPE|       NEIGHBOURHOOD|          LATITUDE|          LONGITUDE|\n",
      "+--------------------+--------------------+------------------+-------------------+\n",
      "|            Mischief|              Sunset| 49.22285547453633|-123.10457767461014|\n",
      "|    Theft of Vehicle| Victoria-Fraserview| 49.21942208176436|-123.05928356709362|\n",
      "|Break and Enter C...|Central Business ...|49.280454355702865|-123.10100566349294|\n",
      "|            Mischief|            West End| 49.29261448054877|-123.13962081805273|\n",
      "|            Mischief|            West End| 49.29260865723727|-123.13945233120421|\n",
      "|            Mischief|    Hastings-Sunrise|49.281126361961825| -123.0554729922974|\n",
      "|  Theft from Vehicle|      Mount Pleasant|49.263002922167225|-123.10655743565438|\n",
      "|            Mischief|    Hastings-Sunrise| 49.28112610578195|-123.05525671257254|\n",
      "|  Theft from Vehicle|           Kitsilano| 49.25958751890934| -123.1707943860336|\n",
      "|  Theft from Vehicle|           Kitsilano|49.259582805051586|-123.17045353072422|\n",
      "+--------------------+--------------------+------------------+-------------------+\n",
      "only showing top 10 rows\n",
      "\n",
      "Crime Dataset has 520719 rows\n"
     ]
    }
   ],
   "source": [
    "crime_df = spark.read.format(\"csv\").option(\"header\", \"true\").load(\"..//Data/crime/crime_all_years_latlong.csv\")\n",
    "#Drop unrequired columns\n",
    "crime_df = crime_df.select(['TYPE','NEIGHBOURHOOD','LATITUDE','LONGITUDE'])\n",
    "crime_df = crime_df.dropna(how='any')\n",
    "crime_df.show(10,truncate=True)\n",
    "print(\"Crime Dataset has {} rows\".format(crime_df.count()))"
   ]
  },
  {
   "cell_type": "markdown",
   "metadata": {},
   "source": [
    "#### We shall also store another dataframe, this time with crime_counts by neighbourhood"
   ]
  },
  {
   "cell_type": "code",
   "execution_count": 16,
   "metadata": {},
   "outputs": [
    {
     "name": "stdout",
     "output_type": "stream",
     "text": [
      "+--------------------+--------------------+\n",
      "|                TYPE|       NEIGHBOURHOOD|\n",
      "+--------------------+--------------------+\n",
      "|            Mischief|              Sunset|\n",
      "|    Theft of Vehicle| Victoria-Fraserview|\n",
      "|Break and Enter C...|Central Business ...|\n",
      "|            Mischief|            West End|\n",
      "|            Mischief|            West End|\n",
      "|            Mischief|    Hastings-Sunrise|\n",
      "|  Theft from Vehicle|      Mount Pleasant|\n",
      "|            Mischief|    Hastings-Sunrise|\n",
      "|  Theft from Vehicle|           Kitsilano|\n",
      "|  Theft from Vehicle|           Kitsilano|\n",
      "+--------------------+--------------------+\n",
      "only showing top 10 rows\n",
      "\n",
      "Crime Counts by Neighbourhood:\n",
      "+-------------------+-----------+\n",
      "|      NEIGHBOURHOOD|CRIME_COUNT|\n",
      "+-------------------+-----------+\n",
      "|           Oakridge|       8698|\n",
      "|        Shaughnessy|       5993|\n",
      "|           Fairview|      34654|\n",
      "|      Arbutus Ridge|       6503|\n",
      "|       Stanley Park|       3977|\n",
      "|   Hastings-Sunrise|      19838|\n",
      "|     Mount Pleasant|      33786|\n",
      "|  Dunbar-Southlands|       8384|\n",
      "|           Musqueam|        560|\n",
      "|Renfrew-Collingwood|      29294|\n",
      "+-------------------+-----------+\n",
      "only showing top 10 rows\n",
      "\n"
     ]
    }
   ],
   "source": [
    "crime_df = crime_df.select(['TYPE','NEIGHBOURHOOD'])\n",
    "concise_crime = crime_df.groupBy('NEIGHBOURHOOD').count().withColumnRenamed('count', 'CRIME_COUNT')\n",
    "crime_df.show(10)\n",
    "print('Crime Counts by Neighbourhood:')\n",
    "concise_crime.show(10)"
   ]
  },
  {
   "cell_type": "markdown",
   "metadata": {},
   "source": [
    "### Let us go ahead and obtain these new datasets"
   ]
  },
  {
   "cell_type": "code",
   "execution_count": 17,
   "metadata": {},
   "outputs": [
    {
     "name": "stdout",
     "output_type": "stream",
     "text": [
      "+--------------------+------------+-------------+---------------+-------------+--------------------+\n",
      "|         SCHOOL_NAME|    LATITUDE|    LONGITUDE|        ADDRESS|NEIGHBOURHOOD|               CRIME|\n",
      "+--------------------+------------+-------------+---------------+-------------+--------------------+\n",
      "|Dr Annie B Jamies...|49.226906936|-123.12100426|6350 Tisdall St|     Oakridge|    Theft of Vehicle|\n",
      "|Dr Annie B Jamies...|49.226906936|-123.12100426|6350 Tisdall St|     Oakridge|    Theft of Vehicle|\n",
      "|Dr Annie B Jamies...|49.226906936|-123.12100426|6350 Tisdall St|     Oakridge|    Theft of Vehicle|\n",
      "|Dr Annie B Jamies...|49.226906936|-123.12100426|6350 Tisdall St|     Oakridge|Break and Enter R...|\n",
      "|Dr Annie B Jamies...|49.226906936|-123.12100426|6350 Tisdall St|     Oakridge|Break and Enter R...|\n",
      "|Dr Annie B Jamies...|49.226906936|-123.12100426|6350 Tisdall St|     Oakridge|Break and Enter R...|\n",
      "|Dr Annie B Jamies...|49.226906936|-123.12100426|6350 Tisdall St|     Oakridge|    Theft of Vehicle|\n",
      "|Dr Annie B Jamies...|49.226906936|-123.12100426|6350 Tisdall St|     Oakridge|    Theft of Vehicle|\n",
      "|Dr Annie B Jamies...|49.226906936|-123.12100426|6350 Tisdall St|     Oakridge|    Theft of Vehicle|\n",
      "|Dr Annie B Jamies...|49.226906936|-123.12100426|6350 Tisdall St|     Oakridge|    Theft of Vehicle|\n",
      "|Dr Annie B Jamies...|49.226906936|-123.12100426|6350 Tisdall St|     Oakridge|    Theft of Vehicle|\n",
      "|Dr Annie B Jamies...|49.226906936|-123.12100426|6350 Tisdall St|     Oakridge|    Theft of Vehicle|\n",
      "|Dr Annie B Jamies...|49.226906936|-123.12100426|6350 Tisdall St|     Oakridge|    Theft of Vehicle|\n",
      "|Dr Annie B Jamies...|49.226906936|-123.12100426|6350 Tisdall St|     Oakridge|    Theft of Vehicle|\n",
      "|Dr Annie B Jamies...|49.226906936|-123.12100426|6350 Tisdall St|     Oakridge|    Theft of Vehicle|\n",
      "+--------------------+------------+-------------+---------------+-------------+--------------------+\n",
      "only showing top 15 rows\n",
      "\n",
      "The School Crime Type Dataset has 3629095 rows\n",
      "+--------------------+----------------+-----------------+-------------------+------------------+-----------+\n",
      "|         SCHOOL_NAME|        LATITUDE|        LONGITUDE|            ADDRESS|     NEIGHBOURHOOD|CRIME_COUNT|\n",
      "+--------------------+----------------+-----------------+-------------------+------------------+-----------+\n",
      "|Admiral Seymour E...|     49.27859427|     -123.0803143|     1130 Keefer St|        Strathcona|      23566|\n",
      "|Admiral Seymour S...|     49.27859427|     -123.0803143|     1130 Keefer St|        Strathcona|      23566|\n",
      "|   Alexander Academy|49.2850006001823|-123.114009854193|  688 W Hastings St|          Downtown|       null|\n",
      "|Anchor Point Mont...| 49.277061848292|-123.130918922266|     1351 Hornby St|          Downtown|       null|\n",
      "|BC Children's Ado...|    49.239630962|    -123.12579096|     5025 Willow St|      South Cambie|       5626|\n",
      "|BC Childrens Hosp...|    49.239630962|    -123.12579096|     5025 Willow St|      South Cambie|       5626|\n",
      "|BCCH Eating Disor...|    49.239630962|    -123.12579096|     5025 Willow St|      South Cambie|       5626|\n",
      "|Bayview Community...|    49.266487007|    -123.18233379|2251 Collingwood St|         Kitsilano|      29038|\n",
      "|Blessed Sacrament...|49.2583379084058|-123.119390910334|    3020 Heather St|          Fairview|      34654|\n",
      "|Britannia Communi...|49.2745120095296|-123.071378795422|  1110 Cotton Drive|Grandview-Woodland|      29725|\n",
      "|Britannia Communi...|49.2752359917843| -123.07192309841|  1001 Cotton Drive|Grandview-Woodland|      29725|\n",
      "|Canuck Place Scho...|49.2516695267534|-123.143062399514|   1690 Matthews Av|       Shaughnessy|       5993|\n",
      "|Captain James Coo...|      49.2193808|    -123.03582905|     3340 E 54th Av|         Killarney|      11244|\n",
      "|Captain James Coo...|      49.2193808|    -123.03582905|     3340 E 54th Av|         Killarney|      11244|\n",
      "|Carnarvon Communi...|49.2565874222733|-123.173557238565|  3400 Balaclava St|     Arbutus-Ridge|       null|\n",
      "+--------------------+----------------+-----------------+-------------------+------------------+-----------+\n",
      "only showing top 15 rows\n",
      "\n",
      "The School Crime Count Dataset has 194 rows\n"
     ]
    }
   ],
   "source": [
    "#Create Temp tables in SPark.sql\n",
    "schools.createOrReplaceTempView(\"DF1\")\n",
    "crime_df.createOrReplaceTempView(\"DF2\")\n",
    "concise_crime.createOrReplaceTempView(\"DF3\")\n",
    "\n",
    "#SQL JOIN\n",
    "school_crime = spark.sql(\"\"\"SELECT DF1.*,\n",
    "                      DF2.TYPE AS CRIME \n",
    "                      FROM DF1 LEFT JOIN DF2 ON DF1.NEIGHBOURHOOD = DF2.NEIGHBOURHOOD\"\"\")\n",
    "school_crime.show(15,truncate=True)\n",
    "print(\"The School Crime Type Dataset has {} rows\".format(school_crime.count()))\n",
    "\n",
    "school_crimecount = spark.sql(\"\"\"SELECT DF1.*,\n",
    "                      DF3.CRIME_COUNT AS CRIME_COUNT \n",
    "                      FROM DF1 LEFT JOIN DF3 ON DF1.NEIGHBOURHOOD = DF3.NEIGHBOURHOOD\"\"\")\n",
    "school_crimecount.show(15,truncate=True)\n",
    "print(\"The School Crime Count Dataset has {} rows\".format(school_crimecount.count()))\n"
   ]
  },
  {
   "cell_type": "code",
   "execution_count": 18,
   "metadata": {},
   "outputs": [],
   "source": [
    "school_crime.repartition(1).write.format(\"com.databricks.spark.csv\").option(\"header\", \"true\").save(\"SCHOOL_CRIME.csv\")\n",
    "school_crimecount.repartition(1).write.format(\"com.databricks.spark.csv\").option(\"header\", \"true\").save(\"SCHOOL_CRIMECOUNT.csv\")"
   ]
  },
  {
   "cell_type": "markdown",
   "metadata": {},
   "source": [
    "## Here is the Tableau visualization:\n",
    "The locations of schools are plotted on the map in red markers. The neighbourhoods can be observed with boundaries thanks to the shapefile provided by the Open Data Catalogue. We can visualize the neighbourhoods based on their crime intensity on the color scale. The Tableau public dashboard can be viewed at: <a href=\"https://public.tableau.com/views/School_Crime/Dashboard1?:language=en&:display_count=y&publish=yes&:origin=viz_share_link\">https://public.tableau.com/views/School_Crime/Dashboard1?:language=en&:display_count=y&publish=yes&:origin=viz_share_link\n",
    "</a><br>\n",
    "<img src=\"../Visualisation/Raw/Schools.png\">\n"
   ]
  },
  {
   "cell_type": "code",
   "execution_count": null,
   "metadata": {},
   "outputs": [],
   "source": []
  }
 ],
 "metadata": {
  "kernelspec": {
   "display_name": "Python 3",
   "language": "python",
   "name": "python3"
  },
  "language_info": {
   "codemirror_mode": {
    "name": "ipython",
    "version": 3
   },
   "file_extension": ".py",
   "mimetype": "text/x-python",
   "name": "python",
   "nbconvert_exporter": "python",
   "pygments_lexer": "ipython3",
   "version": "3.7.1"
  }
 },
 "nbformat": 4,
 "nbformat_minor": 2
}
