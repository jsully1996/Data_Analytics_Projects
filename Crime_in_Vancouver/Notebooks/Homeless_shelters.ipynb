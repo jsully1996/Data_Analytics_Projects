{
 "cells": [
  {
   "cell_type": "markdown",
   "metadata": {},
   "source": [
    "# Establishing the link between Crime and Homeless Shelters\n",
    "According to <a href=\"https://crim.sas.upenn.edu/sites/default/files/Ridgeway_Effect%20of%20Emergency%20Shelters-v5_1.2.2018.pdf\">statistics</a>, the presence of a homeless shelter appears to cause  crime to increase by 56% within 100m of that shelter, with thefts from vehicles, other thefts, and vandalism driving the increase. The Vancouver open Data catalogue provides us a list of Homeless shelters within city limits along with their exact co-ordinates in the same dataset. By plotting it against crime in the vicinity, we shall attempt to establish by ourself if there is any truth to this statement, atleast for the city of Vancouver."
   ]
  },
  {
   "cell_type": "code",
   "execution_count": 3,
   "metadata": {},
   "outputs": [],
   "source": [
    "import pandas as pd\n",
    "import reverse_geocoder as rg\n",
    "from pyspark.sql import SparkSession\n",
    "from pyspark.sql.functions import *\n",
    "from pyspark.sql.types import *\n",
    "from geocodio import GeocodioClient\n",
    "API_KEY = 'dd80c07f04d3066730c74d703707660d407fdcf'"
   ]
  },
  {
   "cell_type": "code",
   "execution_count": 4,
   "metadata": {},
   "outputs": [],
   "source": [
    "#Create Spark Session and context\n",
    "spark = SparkSession\\\n",
    "    .builder\\\n",
    "    .appName(\"example code\")\\\n",
    "    .config(\"spark.driver.extraClassPath\",\"/home/jim/spark-2.4.0-bin-hadoop2.7/jars/mysql-connector-java-5.1.49.jar\")\\\n",
    "    .getOrCreate()\n",
    "spark.sparkContext.setLogLevel('WARN')\n",
    "sc = spark.sparkContext"
   ]
  },
  {
   "cell_type": "markdown",
   "metadata": {},
   "source": [
    "Load the Homelessness Dataset"
   ]
  },
  {
   "cell_type": "code",
   "execution_count": 6,
   "metadata": {},
   "outputs": [
    {
     "name": "stdout",
     "output_type": "stream",
     "text": [
      "+--------------------+----------------+-----------------+--------------------+------------+-----+----+-----+\n",
      "|            FACILITY|             LAT|             LONG|            CATEGORY|       PHONE|MEALS|PETS|CARTS|\n",
      "+--------------------+----------------+-----------------+--------------------+------------+-----+----+-----+\n",
      "|      Covenant House|49.2754042223039|-123.126322529911| Youth (all genders)|604-685-7474|  yes|  no|   no|\n",
      "|  Aboriginal Shelter|49.2715743534663|-123.099346861579|Adults (all genders)|604-347-0299|  yes| yes|  yes|\n",
      "|      Anchor of Hope|49.2821327941377|-123.101324923635|Adults (all genders)|604-646-6899|  yes|  no|   no|\n",
      "|       Yukon Shelter|49.2668908859729| -123.11236726194|Adults (all genders)|604-264-1680|   no| yes|   no|\n",
      "|           Crosswalk|49.2818050804002|-123.107672478832|Adults (all genders)|604-669-4349|   no|  no|   no|\n",
      "|Dusk to Dawn-Dire...|49.2795671693397|-123.127792927078| Youth (all genders)|604-633-1472|  yes|  no|   no|\n",
      "|        New Fountain|49.2828738118386|-123.105225398756|Adults (all genders)|604-331-1246|  yes| yes|  yes|\n",
      "|Catholic Charitie...|49.2777650064068|-123.114913417258|                 Men|604-443-3292|   no|  no|   no|\n",
      "|    Lookout Downtown|49.2837440886413|-123.096207657871|Adults (all genders)|604-681-9126|   no| yes|   no|\n",
      "|     Vineyard Church|49.2693356609832|-123.070551901448|Adults (all genders)|604-255-4463|  yes|  no|   no|\n",
      "+--------------------+----------------+-----------------+--------------------+------------+-----+----+-----+\n",
      "only showing top 10 rows\n",
      "\n",
      "The Graffiti dataset has 21 rows\n"
     ]
    }
   ],
   "source": [
    "homeless = spark.read.format(\"csv\").option(\"header\", \"true\").load(\"../Data/Homeless_shelters.csv\")\n",
    "homeless.show(10,truncate=True)\n",
    "print('The Graffiti dataset has {} rows'.format(homeless.count()))"
   ]
  },
  {
   "cell_type": "markdown",
   "metadata": {},
   "source": [
    "#### Here, we have lat/long pairs in the dataset but this is not enough to join it to any other datset based on location. The problem is that LAT/LONG pairs are never exact. For a 13 digit lat/long pair, there will exist only a single block.\n",
    "We on the other hand, are considering crime levels by AREA, hence we need a way to generate a 'HUNDRED_BLOCK' field from the LAT/LONG pair. We have a useful API that can be used to do so as to that effect."
   ]
  },
  {
   "cell_type": "code",
   "execution_count": 8,
   "metadata": {},
   "outputs": [
    {
     "name": "stdout",
     "output_type": "stream",
     "text": [
      "+------------------------------------+----------------+-----------------+-------------------+\n",
      "|FACILITY                            |LAT             |LONG             |HUNDRED_BLOCK      |\n",
      "+------------------------------------+----------------+-----------------+-------------------+\n",
      "|Covenant House                      |49.2754042223039|-123.126322529911|12XX SEYMOUR ST    |\n",
      "|Aboriginal Shelter                  |49.2715743534663|-123.099346861579|24XX NORTHERN ST   |\n",
      "|Anchor of Hope                      |49.2821327941377|-123.101324923635|13XX E CORDOVA ST  |\n",
      "|Yukon Shelter                       |49.2668908859729|-123.11236726194 |20XX YUKON ST      |\n",
      "|Crosswalk                           |49.2818050804002|-123.107672478832|10XX W HASTINGS ST |\n",
      "|Dusk to Dawn-Directions Youth Centre|49.2795671693397|-123.127792927078|11XX BURRARD ST    |\n",
      "|New Fountain                        |49.2828738118386|-123.105225398756|36XX BLOOD ALLEY SQ|\n",
      "|Catholic Charities Men's Hostel     |49.2777650064068|-123.114913417258|15XX ROBSON ST     |\n",
      "|Lookout Downtown                    |49.2837440886413|-123.096207657871|34XX ALEXANDER ST  |\n",
      "|Vineyard Church                     |49.2693356609832|-123.070551901448|16XX E 1ST AVE     |\n",
      "|Grandview Calvary Baptist Church    |49.2697474520736|-123.067356357987|18XX E 1ST AVE     |\n",
      "|Belkin House                        |49.2824583823588|-123.112939685345|55XX HOMER ST      |\n",
      "|Union Gospel Mission                |49.2818717041335|-123.090986046798|61XX E CORDOVA ST  |\n",
      "|Triage                              |49.2832570142586|-123.089140653353|70XX POWELL ST     |\n",
      "|The Haven                           |49.2821349512488|-123.101429426307|12XX E CORDOVA ST  |\n",
      "+------------------------------------+----------------+-----------------+-------------------+\n",
      "only showing top 15 rows\n",
      "\n"
     ]
    }
   ],
   "source": [
    "homeless = homeless.select('FACILITY','LAT','LONG')\n",
    "latitude_list = homeless.select(\"LAT\").rdd.flatMap(lambda x: x).collect()\n",
    "longitude_list = homeless.select(\"LONG\").rdd.flatMap(lambda x: x).collect()\n",
    "neighbourhood_list = []\n",
    "client = GeocodioClient(API_KEY)\n",
    "\n",
    "for i,j in zip(latitude_list,longitude_list):\n",
    "    location = client.reverse((i,j))\n",
    "    neighbourhood_list.append(location['results'][0]['address_components']['number'][:2]+'XX '+location['results'][0]['address_components']['formatted_street'].upper())\n",
    "\n",
    "temp_df = homeless.toPandas()\n",
    "temp_df['HUNDRED_BLOCK'] = neighbourhood_list\n",
    "homeless = spark.createDataFrame(temp_df)\n",
    "homeless.show(15,truncate=False) "
   ]
  },
  {
   "cell_type": "markdown",
   "metadata": {},
   "source": [
    "### Now we will load the dataset of crimes that is our main source of crime data"
   ]
  },
  {
   "cell_type": "code",
   "execution_count": 27,
   "metadata": {},
   "outputs": [
    {
     "name": "stdout",
     "output_type": "stream",
     "text": [
      "+--------------------+------------------+------------------+-------------------+\n",
      "|                TYPE|     HUNDRED_BLOCK|          LATITUDE|          LONGITUDE|\n",
      "+--------------------+------------------+------------------+-------------------+\n",
      "|            Mischief|     6X E 52ND AVE| 49.22285547453633|-123.10457767461014|\n",
      "|    Theft of Vehicle|   71XX NANAIMO ST| 49.21942208176436|-123.05928356709362|\n",
      "|Break and Enter C...|   1XX E PENDER ST|49.280454355702865|-123.10100566349294|\n",
      "|            Mischief|     9XX CHILCO ST| 49.29261448054877|-123.13962081805273|\n",
      "|            Mischief|     9XX CHILCO ST| 49.29260865723727|-123.13945233120421|\n",
      "|            Mischief|24XX E HASTINGS ST|49.281126361961825| -123.0554729922974|\n",
      "|  Theft from Vehicle| 8X W BROADWAY AVE|49.263002922167225|-123.10655743565438|\n",
      "|            Mischief|24XX E HASTINGS ST| 49.28112610578195|-123.05525671257254|\n",
      "|  Theft from Vehicle|   29XX W 14TH AVE| 49.25958751890934| -123.1707943860336|\n",
      "|  Theft from Vehicle|   29XX W 14TH AVE|49.259582805051586|-123.17045353072422|\n",
      "+--------------------+------------------+------------------+-------------------+\n",
      "only showing top 10 rows\n",
      "\n",
      "Crime Dataset has 523093 rows\n"
     ]
    }
   ],
   "source": [
    "crime_df = spark.read.format(\"csv\").option(\"header\", \"true\").load(\"..//Data/crime/crime_all_years_latlong.csv\")\n",
    "#Drop unrequired columns\n",
    "crime_df = crime_df.select(['TYPE','HUNDRED_BLOCK','LATITUDE','LONGITUDE'])\n",
    "crime_df = crime_df.dropna(how='any')\n",
    "crime_df.show(10,truncate=True)\n",
    "print(\"Crime Dataset has {} rows\".format(crime_df.count()))"
   ]
  },
  {
   "cell_type": "markdown",
   "metadata": {},
   "source": [
    "#### Let's check if there are any common HUNDRED_BLOCK values to join else we need to join on another field"
   ]
  },
  {
   "cell_type": "code",
   "execution_count": 26,
   "metadata": {},
   "outputs": [
    {
     "name": "stdout",
     "output_type": "stream",
     "text": [
      "Common values are:\n"
     ]
    },
    {
     "data": {
      "text/plain": [
       "{'10XX W HASTINGS ST',\n",
       " '11XX BURRARD ST',\n",
       " '11XX W 10TH AVE',\n",
       " '12XX SEYMOUR ST',\n",
       " '15XX ROBSON ST',\n",
       " '16XX E 1ST AVE',\n",
       " '18XX E 1ST AVE',\n",
       " '20XX YUKON ST',\n",
       " '32XX E HASTINGS ST'}"
      ]
     },
     "execution_count": 26,
     "metadata": {},
     "output_type": "execute_result"
    }
   ],
   "source": [
    "print(\"Common values are:\")\n",
    "set(df['HUNDRED_BLOCK'].unique()).intersection(set(homeless.select(\"HUNDRED_BLOCK\").rdd.flatMap(lambda x: x).collect()))"
   ]
  },
  {
   "cell_type": "markdown",
   "metadata": {},
   "source": [
    "We're in luck : there are some crimes in the same hundred block radii as homeless shelters.\n",
    "#### Now let us join the datasets. We will retain the crime dataset completely because we wanna see if there are homeless shelters in areas where crime concentration is relatively high."
   ]
  },
  {
   "cell_type": "code",
   "execution_count": 55,
   "metadata": {},
   "outputs": [
    {
     "name": "stdout",
     "output_type": "stream",
     "text": [
      "+--------+--------------------+--------------------+-----------------+-------------------+\n",
      "|FACILITY|                TYPE|       HUNDRED_BLOCK|         LATITUDE|          LONGITUDE|\n",
      "+--------+--------------------+--------------------+-----------------+-------------------+\n",
      "|    null|Vehicle Collision...|10XX BLOCK HAMILT...|49.27679130655303|-123.11977504146066|\n",
      "|    null|  Theft from Vehicle|     10XX E 17TH AVE|49.25543143653735|-123.08315357881993|\n",
      "|    null|Break and Enter R...|     10XX E 17TH AVE|49.25543110184606|-123.08311867268819|\n",
      "|    null|            Mischief|     10XX E 17TH AVE|49.25535289926625|-123.08354015601581|\n",
      "|    null|  Theft from Vehicle|     10XX E 17TH AVE|49.25535289926625|-123.08354015601581|\n",
      "|    null|  Theft from Vehicle|     10XX E 17TH AVE|49.25535289926625|-123.08354015601581|\n",
      "|    null|  Theft from Vehicle|     10XX E 17TH AVE|49.25542775484542|-123.08276892427928|\n",
      "|    null|Break and Enter R...|     10XX E 17TH AVE|49.25542942852742|-123.08294372976631|\n",
      "|    null|    Theft of Vehicle|     10XX E 17TH AVE|49.25535289926625|-123.08354015601581|\n",
      "|    null|  Theft from Vehicle|     10XX E 17TH AVE|49.25542440678599|-123.08241917591637|\n",
      "|    null|Break and Enter R...|     10XX E 17TH AVE|49.25535122658565|-123.08336521335688|\n",
      "|    null|Break and Enter R...|     10XX E 17TH AVE|49.25542440678599|-123.08241917591637|\n",
      "|    null|    Theft of Vehicle|     10XX E 17TH AVE|49.25543110184606|-123.08311867268819|\n",
      "|    null|  Theft from Vehicle|     10XX E 17TH AVE|49.25542608089893|-123.08259411880374|\n",
      "|    null|  Theft from Vehicle|     10XX E 17TH AVE|49.25543143653735|-123.08315357881993|\n",
      "+--------+--------------------+--------------------+-----------------+-------------------+\n",
      "only showing top 15 rows\n",
      "\n",
      "The new Dataset has 523093 rows\n"
     ]
    }
   ],
   "source": [
    "#Create Temp tables in SPark.sql\n",
    "homeless.createOrReplaceTempView(\"DF1\")\n",
    "crime_df.createOrReplaceTempView(\"DF2\")\n",
    "\n",
    "#SQL JOIN\n",
    "joined_df = spark.sql(\"\"\"SELECT DF1.FACILITY, DF2.* \n",
    "                      FROM DF1 RIGHT JOIN DF2 ON DF1.HUNDRED_BLOCK = DF2.HUNDRED_BLOCK\"\"\")\n",
    "joined_df.dropna()\n",
    "joined_df.show(15,truncate=True)\n",
    "print(\"The new Dataset has {} rows\".format(joined_df.count()))"
   ]
  },
  {
   "cell_type": "markdown",
   "metadata": {},
   "source": [
    "Since the join, the fACILITY column displays nulls when a homeless shelter is not in the vicinity of a particular crime and the shelter name if otherwise. For visualization purposes, it is better to convert nulls to 0 meaning that a facility does not exist or 1 meaning there is a homeless shelter in the vicinity."
   ]
  },
  {
   "cell_type": "code",
   "execution_count": 51,
   "metadata": {},
   "outputs": [
    {
     "name": "stdout",
     "output_type": "stream",
     "text": [
      "+--------+--------------------+--------------------+-----------------+-------------------+\n",
      "|FACILITY|                TYPE|       HUNDRED_BLOCK|         LATITUDE|          LONGITUDE|\n",
      "+--------+--------------------+--------------------+-----------------+-------------------+\n",
      "|       0|Vehicle Collision...|10XX BLOCK HAMILT...|49.27679130655303|-123.11977504146066|\n",
      "|       0|  Theft from Vehicle|     10XX E 17TH AVE|49.25543143653735|-123.08315357881993|\n",
      "|       0|Break and Enter R...|     10XX E 17TH AVE|49.25543110184606|-123.08311867268819|\n",
      "|       0|            Mischief|     10XX E 17TH AVE|49.25535289926625|-123.08354015601581|\n",
      "|       0|  Theft from Vehicle|     10XX E 17TH AVE|49.25535289926625|-123.08354015601581|\n",
      "|       0|  Theft from Vehicle|     10XX E 17TH AVE|49.25535289926625|-123.08354015601581|\n",
      "|       0|  Theft from Vehicle|     10XX E 17TH AVE|49.25542775484542|-123.08276892427928|\n",
      "|       0|Break and Enter R...|     10XX E 17TH AVE|49.25542942852742|-123.08294372976631|\n",
      "|       0|    Theft of Vehicle|     10XX E 17TH AVE|49.25535289926625|-123.08354015601581|\n",
      "|       0|  Theft from Vehicle|     10XX E 17TH AVE|49.25542440678599|-123.08241917591637|\n",
      "|       0|Break and Enter R...|     10XX E 17TH AVE|49.25535122658565|-123.08336521335688|\n",
      "|       0|Break and Enter R...|     10XX E 17TH AVE|49.25542440678599|-123.08241917591637|\n",
      "|       0|    Theft of Vehicle|     10XX E 17TH AVE|49.25543110184606|-123.08311867268819|\n",
      "|       0|  Theft from Vehicle|     10XX E 17TH AVE|49.25542608089893|-123.08259411880374|\n",
      "|       0|  Theft from Vehicle|     10XX E 17TH AVE|49.25543143653735|-123.08315357881993|\n",
      "+--------+--------------------+--------------------+-----------------+-------------------+\n",
      "only showing top 15 rows\n",
      "\n"
     ]
    }
   ],
   "source": [
    "joined_df = joined_df.withColumn('FACILITY',when(col('FACILITY').isNull(),col('FACILITY')).otherwise(lit(1)))\n",
    "joined_df = joined_df.na.fill({'FACILITY':0})\n",
    "joined_df.show(15)"
   ]
  },
  {
   "cell_type": "code",
   "execution_count": 56,
   "metadata": {},
   "outputs": [],
   "source": [
    "joined_df.repartition(1).write.format(\"com.databricks.spark.csv\").option(\"header\", \"true\").save(\"Homeless.csv\")"
   ]
  },
  {
   "cell_type": "markdown",
   "metadata": {},
   "source": [
    "## Here is the Tableau visualization:\n",
    "The locations with homeless shelters are plotted on the map in big red markers. The size of the marker represents the No of homeless shelters where as their color intensity (blue )depicts crime intensity. The Tableau public dashboard can be found at <a href=\"https://public.tableau.com/views/Crime_vs_Graffiti/Dashboard1?:language=en&:display_count=y&publish=yes&:origin=viz_share_link\">https://public.tableau.com/views/Crime_vs_Graffiti/Dashboard1?:language=en&:display_count=y&publish=yes&:origin=viz_share_link\n",
    "</a><br>\n",
    "<img src=\"../Visualisation/Raw/Homeless.png\">"
   ]
  },
  {
   "cell_type": "code",
   "execution_count": null,
   "metadata": {},
   "outputs": [],
   "source": []
  }
 ],
 "metadata": {
  "kernelspec": {
   "display_name": "Python 3",
   "language": "python",
   "name": "python3"
  },
  "language_info": {
   "codemirror_mode": {
    "name": "ipython",
    "version": 3
   },
   "file_extension": ".py",
   "mimetype": "text/x-python",
   "name": "python",
   "nbconvert_exporter": "python",
   "pygments_lexer": "ipython3",
   "version": "3.7.1"
  }
 },
 "nbformat": 4,
 "nbformat_minor": 2
}
