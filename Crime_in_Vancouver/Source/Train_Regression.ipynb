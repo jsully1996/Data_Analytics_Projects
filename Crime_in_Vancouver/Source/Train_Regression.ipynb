{
 "cells": [
  {
   "cell_type": "code",
   "execution_count": 1,
   "metadata": {},
   "outputs": [],
   "source": [
    "from pyspark.ml.image import ImageSchema\n",
    "from pyspark.sql import SparkSession, functions, types"
   ]
  },
  {
   "cell_type": "code",
   "execution_count": 2,
   "metadata": {},
   "outputs": [],
   "source": [
    "sparkTrain = SparkSession \\\n",
    "    .builder \\\n",
    "    .appName(\"Crime DB\") \\\n",
    "    .config(\"spark.mongodb.input.uri\", \"mongodb://127.0.0.1/CrimDB.TrainData\") \\\n",
    "    .config(\"spark.mongodb.output.uri\", \"mongodb://127.0.0.1/CrimDB.TrainData\") \\\n",
    "    .getOrCreate()"
   ]
  },
  {
   "cell_type": "code",
   "execution_count": 3,
   "metadata": {},
   "outputs": [
    {
     "name": "stdout",
     "output_type": "stream",
     "text": [
      "+----+-----+-------------------+-------+--------------------+------------------+-------------------+-----+-------------------+--------------------+--------------------+--------------------+------+--------------------+\n",
      "| DAY| HOUR|      HUNDRED_BLOCK| MINUTE|            FACILITY|        LATITUDE_A|        LONGITUDE_A|MONTH|      NEIGHBOURHOOD|         SCHOOL_NAME|             STATION|                TYPE|  YEAR|                 _id|\n",
      "+----+-----+-------------------+-------+--------------------+------------------+-------------------+-----+-------------------+--------------------+--------------------+--------------------+------+--------------------+\n",
      "|16.0|  3.0|    32XX E 22ND AVE|    0.0|Grandview Calvary...| 49.25064827629371|-123.03445849473383|  5.0|Renfrew-Collingwood|Renfrew Community...|              RUPERT|Break and Enter C...|2003.0|[5c084820792d8035...|\n",
      "|21.0|  3.0|       11XX BUTE ST|    0.0|Dusk to Dawn-Dire...| 49.28225755775164|-123.13272877223083|  5.0|           West End|  Lord Roberts Annex|             BURRARD|Break and Enter C...|2003.0|[5c084820792d8035...|\n",
      "|21.0|  3.0|       11XX BUTE ST|    0.0|Dusk to Dawn-Dire...| 49.28225755775164|-123.13272877223083|  5.0|           West End|  Lord Roberts Annex|VANCOUVER\\nCITY\\n...|Break and Enter C...|2003.0|[5c084820792d8035...|\n",
      "|29.0| 20.0|   7XX SW MARINE DR|    0.0| Tenth Avenue Church|49.207774862909446|-123.12253392084408|  7.0|            Marpole|Royal Canadian Co...|        MARINE DRIVE|Break and Enter C...|2003.0|[5c084820792d8035...|\n",
      "|14.0|  2.0|     66XX FRASER ST|    0.0| Tenth Avenue Church| 49.22391509264018|-123.09089162222828|  8.0|             Sunset|John Henderson St...| LANGARA-\\n49th AVE.|Break and Enter C...|2003.0|[5c084820792d8035...|\n",
      "| 9.0| 18.0|      9XX W 8TH AVE|    0.0|       Yukon Shelter| 49.26426325415126|-123.12511632317758|  9.0|           Fairview|False Creek Eleme...|    OLYMPIC\\nVILLAGE|Break and Enter C...|2003.0|[5c084820792d8035...|\n",
      "|16.0|  6.0|     12XX NICOLA ST|   29.0|Dusk to Dawn-Dire...|49.283836208502066|-123.13832977181188|  9.0|           West End|Lord Roberts Elem...|             BURRARD|Break and Enter C...|2003.0|[5c084820792d8035...|\n",
      "|26.0| 15.0|         5X GORE AV|   30.0|    Lookout Downtown|49.284282743358844|-123.09792803802222|  9.0|         Strathcona|Lord Strathcona C...| STADIUM - CHINATOWN|Break and Enter C...|2003.0|[5c084820792d8035...|\n",
      "|24.0|  4.0| 15XX COMMERCIAL DR|    2.0|     Vineyard Church| 49.27104072198962|-123.06969761201603| 10.0| Grandview-Woodland|Britannia Communi...|    COMMERCIAL DRIVE|Break and Enter C...|2003.0|[5c084820792d8035...|\n",
      "|28.0|  5.0|     11XX ROBSON ST|   35.0|First Baptist Church| 49.28527743245954|-123.12580063950828| 10.0|           West End|  Lord Roberts Annex|             BURRARD|Break and Enter C...|2003.0|[5c084820792d8035...|\n",
      "+----+-----+-------------------+-------+--------------------+------------------+-------------------+-----+-------------------+--------------------+--------------------+--------------------+------+--------------------+\n",
      "only showing top 10 rows\n",
      "\n",
      "before fit\n",
      "before transform\n",
      "r2 = 0.45225283360702895\n",
      "rmse = 1.6099255306074969\n"
     ]
    }
   ],
   "source": [
    "import sys\n",
    "assert sys.version_info >= (3, 5) # make sure we have Python 3.5+\n",
    "\n",
    "from pyspark.sql import SparkSession, functions, types\n",
    "spark = SparkSession.builder.appName('tmax model tester').getOrCreate()\n",
    "assert spark.version >= '2.3' # make sure we have Spark 2.3+\n",
    "spark.sparkContext.setLogLevel('WARN')\n",
    "\n",
    "from pyspark.ml import PipelineModel\n",
    "from pyspark.ml.evaluation import RegressionEvaluator\n",
    "from pyspark.ml.regression import GBTRegressor,RandomForestRegressor\n",
    "from pyspark.ml.feature import StringIndexer, VectorAssembler, SQLTransformer\n",
    "from pyspark.ml import Pipeline\n",
    "\n",
    "\n",
    "\n",
    "def main():\n",
    "    data = sparkTrain.read.format(\"com.mongodb.spark.sql.DefaultSource\").load()\n",
    "    data.show(10)\n",
    "    # get the data\n",
    "    train, validation = data.randomSplit([0.90, 0.10])\n",
    "    train = train.cache()\n",
    "    validation = validation.cache()\n",
    "    \n",
    "    query =\"SELECT  * FROM __THIS__\"\n",
    "    \n",
    "    crime_assembler_2 = VectorAssembler(inputCols=[\"YEAR\",\" HOUR\",\"MONTH\",\" DAY\",\" MINUTE\", \"LATITUDE_A\", \"LONGITUDE_A\"], outputCol=\"features\")\n",
    "\n",
    "    type_indexer = StringIndexer(inputCol=\"TYPE\", outputCol=\"TYPEINDEX\", handleInvalid=\"error\",\\\n",
    "    stringOrderType=\"frequencyDesc\")\n",
    "    \n",
    "    nb_indexer = StringIndexer(inputCol=\"NEIGHBOURHOOD\", outputCol=\"NBINDEX\", handleInvalid=\"error\",\\\n",
    "    stringOrderType=\"frequencyDesc\")\n",
    "    \n",
    "    \n",
    "    \n",
    "    facility_indexer = StringIndexer(inputCol=\"FACILITY\", outputCol=\"FCINDEX\", handleInvalid=\"error\",\\\n",
    "    stringOrderType=\"frequencyDesc\")\n",
    "    \n",
    "    station_indexer = StringIndexer(inputCol=\"STATION\", outputCol=\"STINDEX\", handleInvalid=\"error\",\\\n",
    "    stringOrderType=\"frequencyDesc\")\n",
    "    \n",
    "    block_indexer = StringIndexer(inputCol=\" HUNDRED_BLOCK\", outputCol=\"BLINDEX\", handleInvalid=\"error\",\\\n",
    "    stringOrderType=\"frequencyDesc\")\n",
    "    \n",
    "    \n",
    "    indexrs = [type_indexer,nb_indexer,facility_indexer]\n",
    "    \n",
    "    \n",
    "    gbt = RandomForestRegressor(featuresCol='features', labelCol='TYPEINDEX', predictionCol='prediction', numTrees=2, maxDepth=20, seed=72)\n",
    "    sqlTrans = SQLTransformer(statement=query)\n",
    "    \n",
    "    weather_pipeline = Pipeline(stages=[sqlTrans, crime_assembler_2, type_indexer, nb_indexer, facility_indexer,station_indexer,block_indexer, gbt])\n",
    "    print(\"before fit\")\n",
    "    weather_model = weather_pipeline.fit(train)\n",
    "    print(\"before transform\")\n",
    "\n",
    "\n",
    "    # use the model to make predictions\n",
    "    predictions = weather_model.transform(validation)\n",
    "    #predictions.show()\n",
    "\n",
    "    # evaluate the predictions\n",
    "    r2_evaluator = RegressionEvaluator(predictionCol='prediction', labelCol='TYPEINDEX', metricName='r2')\n",
    "    r2 = r2_evaluator.evaluate(predictions)\n",
    "\n",
    "    rmse_evaluator = RegressionEvaluator(predictionCol='prediction', labelCol='TYPEINDEX', metricName='rmse')\n",
    "    rmse = rmse_evaluator.evaluate(predictions)\n",
    "    print('r2 =', r2)\n",
    "    print('rmse =', rmse)\n",
    "\n",
    "    \n",
    "\n",
    "\n",
    "if __name__ == '__main__':\n",
    "    main()\n"
   ]
  },
  {
   "cell_type": "code",
   "execution_count": null,
   "metadata": {},
   "outputs": [],
   "source": []
  }
 ],
 "metadata": {
  "kernelspec": {
   "display_name": "Python 3",
   "language": "python",
   "name": "python3"
  },
  "language_info": {
   "codemirror_mode": {
    "name": "ipython",
    "version": 3
   },
   "file_extension": ".py",
   "mimetype": "text/x-python",
   "name": "python",
   "nbconvert_exporter": "python",
   "pygments_lexer": "ipython3",
   "version": "3.7.0"
  }
 },
 "nbformat": 4,
 "nbformat_minor": 2
}
